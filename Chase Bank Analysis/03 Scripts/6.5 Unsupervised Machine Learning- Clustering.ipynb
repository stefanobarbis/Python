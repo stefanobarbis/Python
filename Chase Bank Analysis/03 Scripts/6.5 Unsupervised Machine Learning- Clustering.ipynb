{
 "cells": [
  {
   "cell_type": "code",
   "execution_count": 31,
   "metadata": {},
   "outputs": [],
   "source": [
    "#importing libraries\n",
    "\n",
    "import pandas as pd\n",
    "import numpy as np\n",
    "import seaborn as sns\n",
    "import matplotlib\n",
    "import matplotlib.pyplot as plt\n",
    "import os\n",
    "import sklearn\n",
    "from sklearn.cluster import KMeans # Here is where you import the k-means algorithm from scikit-learn.\n",
    "import pylab as pl"
   ]
  },
  {
   "cell_type": "code",
   "execution_count": 32,
   "metadata": {},
   "outputs": [],
   "source": [
    "%matplotlib inline"
   ]
  },
  {
   "cell_type": "code",
   "execution_count": 33,
   "metadata": {},
   "outputs": [],
   "source": [
    "path = r'C:\\Users\\stefa\\OneDrive\\Career Foundry\\Chase Bank Analysis'"
   ]
  },
  {
   "cell_type": "code",
   "execution_count": 34,
   "metadata": {},
   "outputs": [],
   "source": [
    "df = pd.read_csv(os.path.join(path, '02 Data', 'Prepared Data', 'Database.csv'))"
   ]
  },
  {
   "cell_type": "code",
   "execution_count": 35,
   "metadata": {},
   "outputs": [
    {
     "data": {
      "text/plain": [
       "(3783, 22)"
      ]
     },
     "execution_count": 35,
     "metadata": {},
     "output_type": "execute_result"
    }
   ],
   "source": [
    "df.shape"
   ]
  },
  {
   "cell_type": "code",
   "execution_count": 36,
   "metadata": {},
   "outputs": [
    {
     "data": {
      "text/html": [
       "<div>\n",
       "<style scoped>\n",
       "    .dataframe tbody tr th:only-of-type {\n",
       "        vertical-align: middle;\n",
       "    }\n",
       "\n",
       "    .dataframe tbody tr th {\n",
       "        vertical-align: top;\n",
       "    }\n",
       "\n",
       "    .dataframe thead th {\n",
       "        text-align: right;\n",
       "    }\n",
       "</style>\n",
       "<table border=\"1\" class=\"dataframe\">\n",
       "  <thead>\n",
       "    <tr style=\"text-align: right;\">\n",
       "      <th></th>\n",
       "      <th>Unnamed: 0</th>\n",
       "      <th>Institution Name</th>\n",
       "      <th>Main Office</th>\n",
       "      <th>Branch Name</th>\n",
       "      <th>Branch Number</th>\n",
       "      <th>Established Date</th>\n",
       "      <th>Acquired Date</th>\n",
       "      <th>Street Address</th>\n",
       "      <th>City</th>\n",
       "      <th>County</th>\n",
       "      <th>...</th>\n",
       "      <th>Latitude</th>\n",
       "      <th>Longitude</th>\n",
       "      <th>2010 Deposits</th>\n",
       "      <th>2011 Deposits</th>\n",
       "      <th>2012 Deposits</th>\n",
       "      <th>2013 Deposits</th>\n",
       "      <th>2014 Deposits</th>\n",
       "      <th>2015 Deposits</th>\n",
       "      <th>2016 Deposits</th>\n",
       "      <th>2016 Median Annual Income</th>\n",
       "    </tr>\n",
       "  </thead>\n",
       "  <tbody>\n",
       "    <tr>\n",
       "      <th>0</th>\n",
       "      <td>0</td>\n",
       "      <td>JPMorgan Chase Bank</td>\n",
       "      <td>0</td>\n",
       "      <td>Avenue U and East 17th St Branch</td>\n",
       "      <td>501</td>\n",
       "      <td>1/1/1900</td>\n",
       "      <td>6/20/1992</td>\n",
       "      <td>1722 Avenue U</td>\n",
       "      <td>Brooklyn</td>\n",
       "      <td>Kings</td>\n",
       "      <td>...</td>\n",
       "      <td>40.59911</td>\n",
       "      <td>-73.95374</td>\n",
       "      <td>257757.0</td>\n",
       "      <td>256109.0</td>\n",
       "      <td>269664.0</td>\n",
       "      <td>393884.0</td>\n",
       "      <td>410870.0</td>\n",
       "      <td>432799.0</td>\n",
       "      <td>480204</td>\n",
       "      <td>61437</td>\n",
       "    </tr>\n",
       "    <tr>\n",
       "      <th>1</th>\n",
       "      <td>1</td>\n",
       "      <td>JPMorgan Chase Bank</td>\n",
       "      <td>0</td>\n",
       "      <td>Broadway and 96th Street Branch</td>\n",
       "      <td>512</td>\n",
       "      <td>1/1/1900</td>\n",
       "      <td>6/20/1992</td>\n",
       "      <td>2551 Broadway, 96th Street</td>\n",
       "      <td>New York City</td>\n",
       "      <td>New York</td>\n",
       "      <td>...</td>\n",
       "      <td>40.79445</td>\n",
       "      <td>-73.97206</td>\n",
       "      <td>327054.0</td>\n",
       "      <td>336573.0</td>\n",
       "      <td>354604.0</td>\n",
       "      <td>385553.0</td>\n",
       "      <td>422699.0</td>\n",
       "      <td>441168.0</td>\n",
       "      <td>474228</td>\n",
       "      <td>61437</td>\n",
       "    </tr>\n",
       "    <tr>\n",
       "      <th>2</th>\n",
       "      <td>2</td>\n",
       "      <td>JPMorgan Chase Bank</td>\n",
       "      <td>0</td>\n",
       "      <td>Suffern Branch</td>\n",
       "      <td>3859</td>\n",
       "      <td>11/1/1901</td>\n",
       "      <td>10/1/2006</td>\n",
       "      <td>67 Lafayette Street</td>\n",
       "      <td>Suffern</td>\n",
       "      <td>Rockland</td>\n",
       "      <td>...</td>\n",
       "      <td>41.11541</td>\n",
       "      <td>-74.15134</td>\n",
       "      <td>38610.0</td>\n",
       "      <td>41017.0</td>\n",
       "      <td>44148.0</td>\n",
       "      <td>50997.0</td>\n",
       "      <td>58002.0</td>\n",
       "      <td>61939.0</td>\n",
       "      <td>65483</td>\n",
       "      <td>61437</td>\n",
       "    </tr>\n",
       "    <tr>\n",
       "      <th>3</th>\n",
       "      <td>3</td>\n",
       "      <td>JPMorgan Chase Bank</td>\n",
       "      <td>0</td>\n",
       "      <td>Grand Street Branch</td>\n",
       "      <td>509</td>\n",
       "      <td>1/1/1902</td>\n",
       "      <td>6/20/1992</td>\n",
       "      <td>231 Grand Street</td>\n",
       "      <td>New York City</td>\n",
       "      <td>New York</td>\n",
       "      <td>...</td>\n",
       "      <td>40.71853</td>\n",
       "      <td>-73.99513</td>\n",
       "      <td>110712.0</td>\n",
       "      <td>127369.0</td>\n",
       "      <td>161513.0</td>\n",
       "      <td>197445.0</td>\n",
       "      <td>219289.0</td>\n",
       "      <td>245988.0</td>\n",
       "      <td>281266</td>\n",
       "      <td>61437</td>\n",
       "    </tr>\n",
       "    <tr>\n",
       "      <th>4</th>\n",
       "      <td>4</td>\n",
       "      <td>JPMorgan Chase Bank</td>\n",
       "      <td>0</td>\n",
       "      <td>Ninth Street Branch</td>\n",
       "      <td>498</td>\n",
       "      <td>12/29/1902</td>\n",
       "      <td>6/20/1992</td>\n",
       "      <td>444 5th Avenue</td>\n",
       "      <td>Brooklyn</td>\n",
       "      <td>Kings</td>\n",
       "      <td>...</td>\n",
       "      <td>40.66985</td>\n",
       "      <td>-73.98073</td>\n",
       "      <td>143163.0</td>\n",
       "      <td>161085.0</td>\n",
       "      <td>189245.0</td>\n",
       "      <td>205912.0</td>\n",
       "      <td>235212.0</td>\n",
       "      <td>248736.0</td>\n",
       "      <td>281082</td>\n",
       "      <td>61437</td>\n",
       "    </tr>\n",
       "  </tbody>\n",
       "</table>\n",
       "<p>5 rows × 22 columns</p>\n",
       "</div>"
      ],
      "text/plain": [
       "   Unnamed: 0     Institution Name  Main Office  \\\n",
       "0           0  JPMorgan Chase Bank            0   \n",
       "1           1  JPMorgan Chase Bank            0   \n",
       "2           2  JPMorgan Chase Bank            0   \n",
       "3           3  JPMorgan Chase Bank            0   \n",
       "4           4  JPMorgan Chase Bank            0   \n",
       "\n",
       "                        Branch Name  Branch Number Established Date  \\\n",
       "0  Avenue U and East 17th St Branch            501         1/1/1900   \n",
       "1   Broadway and 96th Street Branch            512         1/1/1900   \n",
       "2                    Suffern Branch           3859        11/1/1901   \n",
       "3               Grand Street Branch            509         1/1/1902   \n",
       "4               Ninth Street Branch            498       12/29/1902   \n",
       "\n",
       "  Acquired Date              Street Address           City    County  ...  \\\n",
       "0     6/20/1992               1722 Avenue U       Brooklyn     Kings  ...   \n",
       "1     6/20/1992  2551 Broadway, 96th Street  New York City  New York  ...   \n",
       "2     10/1/2006         67 Lafayette Street        Suffern  Rockland  ...   \n",
       "3     6/20/1992            231 Grand Street  New York City  New York  ...   \n",
       "4     6/20/1992              444 5th Avenue       Brooklyn     Kings  ...   \n",
       "\n",
       "   Latitude  Longitude  2010 Deposits  2011 Deposits  2012 Deposits  \\\n",
       "0  40.59911  -73.95374       257757.0       256109.0       269664.0   \n",
       "1  40.79445  -73.97206       327054.0       336573.0       354604.0   \n",
       "2  41.11541  -74.15134        38610.0        41017.0        44148.0   \n",
       "3  40.71853  -73.99513       110712.0       127369.0       161513.0   \n",
       "4  40.66985  -73.98073       143163.0       161085.0       189245.0   \n",
       "\n",
       "   2013 Deposits  2014 Deposits  2015 Deposits  2016 Deposits  \\\n",
       "0       393884.0       410870.0       432799.0         480204   \n",
       "1       385553.0       422699.0       441168.0         474228   \n",
       "2        50997.0        58002.0        61939.0          65483   \n",
       "3       197445.0       219289.0       245988.0         281266   \n",
       "4       205912.0       235212.0       248736.0         281082   \n",
       "\n",
       "   2016 Median Annual Income  \n",
       "0                      61437  \n",
       "1                      61437  \n",
       "2                      61437  \n",
       "3                      61437  \n",
       "4                      61437  \n",
       "\n",
       "[5 rows x 22 columns]"
      ]
     },
     "execution_count": 36,
     "metadata": {},
     "output_type": "execute_result"
    }
   ],
   "source": [
    "df.head()"
   ]
  },
  {
   "cell_type": "code",
   "execution_count": 37,
   "metadata": {},
   "outputs": [],
   "source": [
    "df = df.drop(columns = ['Institution Name'])"
   ]
  },
  {
   "cell_type": "code",
   "execution_count": 38,
   "metadata": {},
   "outputs": [],
   "source": [
    "df = df.drop(columns = ['Main Office'])"
   ]
  },
  {
   "cell_type": "code",
   "execution_count": 39,
   "metadata": {},
   "outputs": [],
   "source": [
    "df = df.drop(columns = ['Branch Name'])"
   ]
  },
  {
   "cell_type": "code",
   "execution_count": 40,
   "metadata": {},
   "outputs": [],
   "source": [
    "df = df.drop(columns = ['Established Date'])"
   ]
  },
  {
   "cell_type": "code",
   "execution_count": 41,
   "metadata": {},
   "outputs": [],
   "source": [
    "df = df.drop(columns = ['Acquired Date'])"
   ]
  },
  {
   "cell_type": "code",
   "execution_count": 42,
   "metadata": {},
   "outputs": [],
   "source": [
    "df = df.drop(columns = ['Street Address'])"
   ]
  },
  {
   "cell_type": "code",
   "execution_count": 43,
   "metadata": {},
   "outputs": [],
   "source": [
    "df = df.drop(columns = ['City'])"
   ]
  },
  {
   "cell_type": "code",
   "execution_count": 44,
   "metadata": {},
   "outputs": [],
   "source": [
    "df = df.drop(columns = ['County'])"
   ]
  },
  {
   "cell_type": "code",
   "execution_count": 45,
   "metadata": {},
   "outputs": [],
   "source": [
    "df = df.drop(columns = ['State'])"
   ]
  },
  {
   "cell_type": "code",
   "execution_count": 46,
   "metadata": {},
   "outputs": [],
   "source": [
    "df = df.drop(columns = ['Zipcode'])"
   ]
  },
  {
   "cell_type": "code",
   "execution_count": 47,
   "metadata": {},
   "outputs": [
    {
     "data": {
      "text/html": [
       "<div>\n",
       "<style scoped>\n",
       "    .dataframe tbody tr th:only-of-type {\n",
       "        vertical-align: middle;\n",
       "    }\n",
       "\n",
       "    .dataframe tbody tr th {\n",
       "        vertical-align: top;\n",
       "    }\n",
       "\n",
       "    .dataframe thead th {\n",
       "        text-align: right;\n",
       "    }\n",
       "</style>\n",
       "<table border=\"1\" class=\"dataframe\">\n",
       "  <thead>\n",
       "    <tr style=\"text-align: right;\">\n",
       "      <th></th>\n",
       "      <th>Unnamed: 0</th>\n",
       "      <th>Branch Number</th>\n",
       "      <th>Latitude</th>\n",
       "      <th>Longitude</th>\n",
       "      <th>2010 Deposits</th>\n",
       "      <th>2011 Deposits</th>\n",
       "      <th>2012 Deposits</th>\n",
       "      <th>2013 Deposits</th>\n",
       "      <th>2014 Deposits</th>\n",
       "      <th>2015 Deposits</th>\n",
       "      <th>2016 Deposits</th>\n",
       "      <th>2016 Median Annual Income</th>\n",
       "    </tr>\n",
       "  </thead>\n",
       "  <tbody>\n",
       "    <tr>\n",
       "      <th>0</th>\n",
       "      <td>0</td>\n",
       "      <td>501</td>\n",
       "      <td>40.59911</td>\n",
       "      <td>-73.95374</td>\n",
       "      <td>257757.0</td>\n",
       "      <td>256109.0</td>\n",
       "      <td>269664.0</td>\n",
       "      <td>393884.0</td>\n",
       "      <td>410870.0</td>\n",
       "      <td>432799.0</td>\n",
       "      <td>480204</td>\n",
       "      <td>61437</td>\n",
       "    </tr>\n",
       "    <tr>\n",
       "      <th>1</th>\n",
       "      <td>1</td>\n",
       "      <td>512</td>\n",
       "      <td>40.79445</td>\n",
       "      <td>-73.97206</td>\n",
       "      <td>327054.0</td>\n",
       "      <td>336573.0</td>\n",
       "      <td>354604.0</td>\n",
       "      <td>385553.0</td>\n",
       "      <td>422699.0</td>\n",
       "      <td>441168.0</td>\n",
       "      <td>474228</td>\n",
       "      <td>61437</td>\n",
       "    </tr>\n",
       "    <tr>\n",
       "      <th>2</th>\n",
       "      <td>2</td>\n",
       "      <td>3859</td>\n",
       "      <td>41.11541</td>\n",
       "      <td>-74.15134</td>\n",
       "      <td>38610.0</td>\n",
       "      <td>41017.0</td>\n",
       "      <td>44148.0</td>\n",
       "      <td>50997.0</td>\n",
       "      <td>58002.0</td>\n",
       "      <td>61939.0</td>\n",
       "      <td>65483</td>\n",
       "      <td>61437</td>\n",
       "    </tr>\n",
       "    <tr>\n",
       "      <th>3</th>\n",
       "      <td>3</td>\n",
       "      <td>509</td>\n",
       "      <td>40.71853</td>\n",
       "      <td>-73.99513</td>\n",
       "      <td>110712.0</td>\n",
       "      <td>127369.0</td>\n",
       "      <td>161513.0</td>\n",
       "      <td>197445.0</td>\n",
       "      <td>219289.0</td>\n",
       "      <td>245988.0</td>\n",
       "      <td>281266</td>\n",
       "      <td>61437</td>\n",
       "    </tr>\n",
       "    <tr>\n",
       "      <th>4</th>\n",
       "      <td>4</td>\n",
       "      <td>498</td>\n",
       "      <td>40.66985</td>\n",
       "      <td>-73.98073</td>\n",
       "      <td>143163.0</td>\n",
       "      <td>161085.0</td>\n",
       "      <td>189245.0</td>\n",
       "      <td>205912.0</td>\n",
       "      <td>235212.0</td>\n",
       "      <td>248736.0</td>\n",
       "      <td>281082</td>\n",
       "      <td>61437</td>\n",
       "    </tr>\n",
       "    <tr>\n",
       "      <th>...</th>\n",
       "      <td>...</td>\n",
       "      <td>...</td>\n",
       "      <td>...</td>\n",
       "      <td>...</td>\n",
       "      <td>...</td>\n",
       "      <td>...</td>\n",
       "      <td>...</td>\n",
       "      <td>...</td>\n",
       "      <td>...</td>\n",
       "      <td>...</td>\n",
       "      <td>...</td>\n",
       "      <td>...</td>\n",
       "    </tr>\n",
       "    <tr>\n",
       "      <th>3778</th>\n",
       "      <td>3791</td>\n",
       "      <td>4408</td>\n",
       "      <td>33.84964</td>\n",
       "      <td>-84.37680</td>\n",
       "      <td>0.0</td>\n",
       "      <td>0.0</td>\n",
       "      <td>0.0</td>\n",
       "      <td>0.0</td>\n",
       "      <td>0.0</td>\n",
       "      <td>0.0</td>\n",
       "      <td>0</td>\n",
       "      <td>53527</td>\n",
       "    </tr>\n",
       "    <tr>\n",
       "      <th>3779</th>\n",
       "      <td>3792</td>\n",
       "      <td>5534</td>\n",
       "      <td>33.85553</td>\n",
       "      <td>-84.31256</td>\n",
       "      <td>7353.0</td>\n",
       "      <td>9506.0</td>\n",
       "      <td>11784.0</td>\n",
       "      <td>14721.0</td>\n",
       "      <td>17628.0</td>\n",
       "      <td>19531.0</td>\n",
       "      <td>24122</td>\n",
       "      <td>53527</td>\n",
       "    </tr>\n",
       "    <tr>\n",
       "      <th>3780</th>\n",
       "      <td>3793</td>\n",
       "      <td>5538</td>\n",
       "      <td>33.92131</td>\n",
       "      <td>-84.01652</td>\n",
       "      <td>11031.0</td>\n",
       "      <td>13266.0</td>\n",
       "      <td>15776.0</td>\n",
       "      <td>16844.0</td>\n",
       "      <td>18553.0</td>\n",
       "      <td>21373.0</td>\n",
       "      <td>26737</td>\n",
       "      <td>53527</td>\n",
       "    </tr>\n",
       "    <tr>\n",
       "      <th>3781</th>\n",
       "      <td>3794</td>\n",
       "      <td>6592</td>\n",
       "      <td>33.88949</td>\n",
       "      <td>-84.31029</td>\n",
       "      <td>13559.0</td>\n",
       "      <td>13450.0</td>\n",
       "      <td>18043.0</td>\n",
       "      <td>19028.0</td>\n",
       "      <td>22416.0</td>\n",
       "      <td>25138.0</td>\n",
       "      <td>28075</td>\n",
       "      <td>53527</td>\n",
       "    </tr>\n",
       "    <tr>\n",
       "      <th>3782</th>\n",
       "      <td>3795</td>\n",
       "      <td>4407</td>\n",
       "      <td>42.35597</td>\n",
       "      <td>-71.04981</td>\n",
       "      <td>0.0</td>\n",
       "      <td>0.0</td>\n",
       "      <td>0.0</td>\n",
       "      <td>0.0</td>\n",
       "      <td>0.0</td>\n",
       "      <td>0.0</td>\n",
       "      <td>0</td>\n",
       "      <td>72266</td>\n",
       "    </tr>\n",
       "  </tbody>\n",
       "</table>\n",
       "<p>3783 rows × 12 columns</p>\n",
       "</div>"
      ],
      "text/plain": [
       "      Unnamed: 0  Branch Number  Latitude  Longitude  2010 Deposits  \\\n",
       "0              0            501  40.59911  -73.95374       257757.0   \n",
       "1              1            512  40.79445  -73.97206       327054.0   \n",
       "2              2           3859  41.11541  -74.15134        38610.0   \n",
       "3              3            509  40.71853  -73.99513       110712.0   \n",
       "4              4            498  40.66985  -73.98073       143163.0   \n",
       "...          ...            ...       ...        ...            ...   \n",
       "3778        3791           4408  33.84964  -84.37680            0.0   \n",
       "3779        3792           5534  33.85553  -84.31256         7353.0   \n",
       "3780        3793           5538  33.92131  -84.01652        11031.0   \n",
       "3781        3794           6592  33.88949  -84.31029        13559.0   \n",
       "3782        3795           4407  42.35597  -71.04981            0.0   \n",
       "\n",
       "      2011 Deposits  2012 Deposits  2013 Deposits  2014 Deposits  \\\n",
       "0          256109.0       269664.0       393884.0       410870.0   \n",
       "1          336573.0       354604.0       385553.0       422699.0   \n",
       "2           41017.0        44148.0        50997.0        58002.0   \n",
       "3          127369.0       161513.0       197445.0       219289.0   \n",
       "4          161085.0       189245.0       205912.0       235212.0   \n",
       "...             ...            ...            ...            ...   \n",
       "3778            0.0            0.0            0.0            0.0   \n",
       "3779         9506.0        11784.0        14721.0        17628.0   \n",
       "3780        13266.0        15776.0        16844.0        18553.0   \n",
       "3781        13450.0        18043.0        19028.0        22416.0   \n",
       "3782            0.0            0.0            0.0            0.0   \n",
       "\n",
       "      2015 Deposits  2016 Deposits  2016 Median Annual Income  \n",
       "0          432799.0         480204                      61437  \n",
       "1          441168.0         474228                      61437  \n",
       "2           61939.0          65483                      61437  \n",
       "3          245988.0         281266                      61437  \n",
       "4          248736.0         281082                      61437  \n",
       "...             ...            ...                        ...  \n",
       "3778            0.0              0                      53527  \n",
       "3779        19531.0          24122                      53527  \n",
       "3780        21373.0          26737                      53527  \n",
       "3781        25138.0          28075                      53527  \n",
       "3782            0.0              0                      72266  \n",
       "\n",
       "[3783 rows x 12 columns]"
      ]
     },
     "execution_count": 47,
     "metadata": {},
     "output_type": "execute_result"
    }
   ],
   "source": [
    "df"
   ]
  },
  {
   "cell_type": "markdown",
   "metadata": {},
   "source": [
    "### Elbow Technique"
   ]
  },
  {
   "cell_type": "code",
   "execution_count": 48,
   "metadata": {},
   "outputs": [],
   "source": [
    "num_cl = range(1, 10)\n",
    "kmeans = [KMeans(n_clusters=i) for i in num_cl]"
   ]
  },
  {
   "cell_type": "code",
   "execution_count": 49,
   "metadata": {},
   "outputs": [
    {
     "data": {
      "text/plain": [
       "[-7.371150009954448e+16,\n",
       " -9025978386071458.0,\n",
       " -3988751816490017.0,\n",
       " -2313518853388500.5,\n",
       " -1169476973878106.2,\n",
       " -470135177036664.1,\n",
       " -319129362730052.25,\n",
       " -229607067076213.3,\n",
       " -173868787102257.22]"
      ]
     },
     "execution_count": 49,
     "metadata": {},
     "output_type": "execute_result"
    }
   ],
   "source": [
    "score = [kmeans[i].fit(df).score(df) for i in range(len(kmeans))] \n",
    "\n",
    "score"
   ]
  },
  {
   "cell_type": "code",
   "execution_count": 50,
   "metadata": {},
   "outputs": [
    {
     "data": {
      "image/png": "[encoded data removed]",
      "text/plain": [
       "<Figure size 432x288 with 1 Axes>"
      ]
     },
     "metadata": {
      "needs_background": "light"
     },
     "output_type": "display_data"
    }
   ],
   "source": [
    "# Plotting the elbow curve using PyLab.\n",
    "\n",
    "pl.plot(num_cl,score)\n",
    "pl.xlabel('Number of Clusters')\n",
    "pl.ylabel('Score')\n",
    "pl.title('Elbow Curve')\n",
    "pl.show()"
   ]
  },
  {
   "cell_type": "markdown",
   "metadata": {},
   "source": [
    "#### According to the graph; there's a large jump from two to three on the x-axis, but after that, the curve straightens out. This means that the optimal count for your clusters is two."
   ]
  },
  {
   "cell_type": "markdown",
   "metadata": {},
   "source": [
    "### K-means Algorithm"
   ]
  },
  {
   "cell_type": "code",
   "execution_count": 51,
   "metadata": {},
   "outputs": [],
   "source": [
    "# Creating the k-means object.\n",
    "\n",
    "kmeans = KMeans(n_clusters = 2, n_jobs = -1) "
   ]
  },
  {
   "cell_type": "code",
   "execution_count": 52,
   "metadata": {},
   "outputs": [
    {
     "name": "stderr",
     "output_type": "stream",
     "text": [
      "C:\\Users\\stefa\\anaconda3\\lib\\site-packages\\sklearn\\cluster\\_kmeans.py:938: FutureWarning: 'n_jobs' was deprecated in version 0.23 and will be removed in 0.25.\n",
      "  warnings.warn(\"'n_jobs' was deprecated in version 0.23 and will be\"\n"
     ]
    },
    {
     "data": {
      "text/plain": [
       "KMeans(n_clusters=2, n_jobs=-1)"
      ]
     },
     "execution_count": 52,
     "metadata": {},
     "output_type": "execute_result"
    }
   ],
   "source": [
    "# Fitting the k-means object to the data.\n",
    "\n",
    "kmeans.fit(df)"
   ]
  },
  {
   "cell_type": "code",
   "execution_count": 53,
   "metadata": {},
   "outputs": [
    {
     "name": "stderr",
     "output_type": "stream",
     "text": [
      "C:\\Users\\stefa\\anaconda3\\lib\\site-packages\\sklearn\\cluster\\_kmeans.py:938: FutureWarning: 'n_jobs' was deprecated in version 0.23 and will be removed in 0.25.\n",
      "  warnings.warn(\"'n_jobs' was deprecated in version 0.23 and will be\"\n"
     ]
    }
   ],
   "source": [
    "df['clusters'] = kmeans.fit_predict(df)"
   ]
  },
  {
   "cell_type": "code",
   "execution_count": 54,
   "metadata": {},
   "outputs": [
    {
     "data": {
      "text/html": [
       "<div>\n",
       "<style scoped>\n",
       "    .dataframe tbody tr th:only-of-type {\n",
       "        vertical-align: middle;\n",
       "    }\n",
       "\n",
       "    .dataframe tbody tr th {\n",
       "        vertical-align: top;\n",
       "    }\n",
       "\n",
       "    .dataframe thead th {\n",
       "        text-align: right;\n",
       "    }\n",
       "</style>\n",
       "<table border=\"1\" class=\"dataframe\">\n",
       "  <thead>\n",
       "    <tr style=\"text-align: right;\">\n",
       "      <th></th>\n",
       "      <th>Unnamed: 0</th>\n",
       "      <th>Branch Number</th>\n",
       "      <th>Latitude</th>\n",
       "      <th>Longitude</th>\n",
       "      <th>2010 Deposits</th>\n",
       "      <th>2011 Deposits</th>\n",
       "      <th>2012 Deposits</th>\n",
       "      <th>2013 Deposits</th>\n",
       "      <th>2014 Deposits</th>\n",
       "      <th>2015 Deposits</th>\n",
       "      <th>2016 Deposits</th>\n",
       "      <th>2016 Median Annual Income</th>\n",
       "      <th>clusters</th>\n",
       "    </tr>\n",
       "  </thead>\n",
       "  <tbody>\n",
       "    <tr>\n",
       "      <th>0</th>\n",
       "      <td>0</td>\n",
       "      <td>501</td>\n",
       "      <td>40.59911</td>\n",
       "      <td>-73.95374</td>\n",
       "      <td>257757.0</td>\n",
       "      <td>256109.0</td>\n",
       "      <td>269664.0</td>\n",
       "      <td>393884.0</td>\n",
       "      <td>410870.0</td>\n",
       "      <td>432799.0</td>\n",
       "      <td>480204</td>\n",
       "      <td>61437</td>\n",
       "      <td>0</td>\n",
       "    </tr>\n",
       "    <tr>\n",
       "      <th>1</th>\n",
       "      <td>1</td>\n",
       "      <td>512</td>\n",
       "      <td>40.79445</td>\n",
       "      <td>-73.97206</td>\n",
       "      <td>327054.0</td>\n",
       "      <td>336573.0</td>\n",
       "      <td>354604.0</td>\n",
       "      <td>385553.0</td>\n",
       "      <td>422699.0</td>\n",
       "      <td>441168.0</td>\n",
       "      <td>474228</td>\n",
       "      <td>61437</td>\n",
       "      <td>0</td>\n",
       "    </tr>\n",
       "    <tr>\n",
       "      <th>2</th>\n",
       "      <td>2</td>\n",
       "      <td>3859</td>\n",
       "      <td>41.11541</td>\n",
       "      <td>-74.15134</td>\n",
       "      <td>38610.0</td>\n",
       "      <td>41017.0</td>\n",
       "      <td>44148.0</td>\n",
       "      <td>50997.0</td>\n",
       "      <td>58002.0</td>\n",
       "      <td>61939.0</td>\n",
       "      <td>65483</td>\n",
       "      <td>61437</td>\n",
       "      <td>0</td>\n",
       "    </tr>\n",
       "    <tr>\n",
       "      <th>3</th>\n",
       "      <td>3</td>\n",
       "      <td>509</td>\n",
       "      <td>40.71853</td>\n",
       "      <td>-73.99513</td>\n",
       "      <td>110712.0</td>\n",
       "      <td>127369.0</td>\n",
       "      <td>161513.0</td>\n",
       "      <td>197445.0</td>\n",
       "      <td>219289.0</td>\n",
       "      <td>245988.0</td>\n",
       "      <td>281266</td>\n",
       "      <td>61437</td>\n",
       "      <td>0</td>\n",
       "    </tr>\n",
       "    <tr>\n",
       "      <th>4</th>\n",
       "      <td>4</td>\n",
       "      <td>498</td>\n",
       "      <td>40.66985</td>\n",
       "      <td>-73.98073</td>\n",
       "      <td>143163.0</td>\n",
       "      <td>161085.0</td>\n",
       "      <td>189245.0</td>\n",
       "      <td>205912.0</td>\n",
       "      <td>235212.0</td>\n",
       "      <td>248736.0</td>\n",
       "      <td>281082</td>\n",
       "      <td>61437</td>\n",
       "      <td>0</td>\n",
       "    </tr>\n",
       "  </tbody>\n",
       "</table>\n",
       "</div>"
      ],
      "text/plain": [
       "   Unnamed: 0  Branch Number  Latitude  Longitude  2010 Deposits  \\\n",
       "0           0            501  40.59911  -73.95374       257757.0   \n",
       "1           1            512  40.79445  -73.97206       327054.0   \n",
       "2           2           3859  41.11541  -74.15134        38610.0   \n",
       "3           3            509  40.71853  -73.99513       110712.0   \n",
       "4           4            498  40.66985  -73.98073       143163.0   \n",
       "\n",
       "   2011 Deposits  2012 Deposits  2013 Deposits  2014 Deposits  2015 Deposits  \\\n",
       "0       256109.0       269664.0       393884.0       410870.0       432799.0   \n",
       "1       336573.0       354604.0       385553.0       422699.0       441168.0   \n",
       "2        41017.0        44148.0        50997.0        58002.0        61939.0   \n",
       "3       127369.0       161513.0       197445.0       219289.0       245988.0   \n",
       "4       161085.0       189245.0       205912.0       235212.0       248736.0   \n",
       "\n",
       "   2016 Deposits  2016 Median Annual Income  clusters  \n",
       "0         480204                      61437         0  \n",
       "1         474228                      61437         0  \n",
       "2          65483                      61437         0  \n",
       "3         281266                      61437         0  \n",
       "4         281082                      61437         0  "
      ]
     },
     "execution_count": 54,
     "metadata": {},
     "output_type": "execute_result"
    }
   ],
   "source": [
    "df.head()"
   ]
  },
  {
   "cell_type": "code",
   "execution_count": 55,
   "metadata": {},
   "outputs": [
    {
     "data": {
      "text/plain": [
       "0    3780\n",
       "1       3\n",
       "Name: clusters, dtype: int64"
      ]
     },
     "execution_count": 55,
     "metadata": {},
     "output_type": "execute_result"
    }
   ],
   "source": [
    "df['clusters'].value_counts()"
   ]
  },
  {
   "cell_type": "code",
   "execution_count": 56,
   "metadata": {},
   "outputs": [
    {
     "data": {
      "image/png": "[encoded data removed]",
      "text/plain": [
       "<Figure size 864x576 with 1 Axes>"
      ]
     },
     "metadata": {
      "needs_background": "light"
     },
     "output_type": "display_data"
    }
   ],
   "source": [
    "# Plotting the clusters for the \"2016 Deposits\" and \"2016 Median Annual Income\" variables.\n",
    "\n",
    "plt.figure(figsize=(12,8))\n",
    "ax = sns.scatterplot(x=df['2016 Deposits'], y=df['2016 Median Annual Income'], hue=kmeans.labels_, s=100) \n",
    "\n",
    "ax.grid(False) \n",
    "plt.xlabel('2016 Deposits') \n",
    "plt.ylabel('2016 Median Annyal Income')\n",
    "plt.show()"
   ]
  },
  {
   "cell_type": "code",
   "execution_count": 61,
   "metadata": {},
   "outputs": [
    {
     "data": {
      "image/png": "[encoded data removed]",
      "text/plain": [
       "<Figure size 864x576 with 1 Axes>"
      ]
     },
     "metadata": {
      "needs_background": "light"
     },
     "output_type": "display_data"
    }
   ],
   "source": [
    "# Plotting the clusters for the \"2016 Deposits\" and \"2010 Median Annual Income\" variables.\n",
    "\n",
    "plt.figure(figsize=(12,8))\n",
    "ax = sns.scatterplot(x=df['2010 Deposits'], y=df['2016 Median Annual Income'], hue=kmeans.labels_, s=100) \n",
    "\n",
    "ax.grid(False) \n",
    "plt.xlabel('2016 Deposits') \n",
    "plt.ylabel('2010 Median Annual Income')\n",
    "plt.show()"
   ]
  },
  {
   "cell_type": "markdown",
   "metadata": {},
   "source": [
    "Interestingly, the clusters make sense and there are 3 deposits well bellow 2 million. Although these could be used as outliers they were kept in the data to avoid biases. Further evidence seen below without these outliers."
   ]
  },
  {
   "cell_type": "code",
   "execution_count": 58,
   "metadata": {},
   "outputs": [],
   "source": [
    "df_sample = df[df['2016 Deposits'] <=3500000] "
   ]
  },
  {
   "cell_type": "code",
   "execution_count": 62,
   "metadata": {},
   "outputs": [],
   "source": [
    "num_cl = range(1, 10)\n",
    "kmeans = [KMeans(n_clusters=i) for i in num_cl]"
   ]
  },
  {
   "cell_type": "code",
   "execution_count": 63,
   "metadata": {},
   "outputs": [
    {
     "data": {
      "text/plain": [
       "[-448306217279782.5,\n",
       " -276761418012397.53,\n",
       " -164765010152196.12,\n",
       " -117248980355877.39,\n",
       " -82928024815675.02,\n",
       " -67734939001931.766,\n",
       " -55335273669352.35,\n",
       " -43571762944481.22,\n",
       " -33879406103105.117]"
      ]
     },
     "execution_count": 63,
     "metadata": {},
     "output_type": "execute_result"
    }
   ],
   "source": [
    "score = [kmeans[i].fit(df_sample).score(df_sample) for i in range(len(kmeans))] \n",
    "\n",
    "score"
   ]
  },
  {
   "cell_type": "code",
   "execution_count": 64,
   "metadata": {},
   "outputs": [
    {
     "data": {
      "image/png": "[encoded data removed]",
      "text/plain": [
       "<Figure size 432x288 with 1 Axes>"
      ]
     },
     "metadata": {
      "needs_background": "light"
     },
     "output_type": "display_data"
    }
   ],
   "source": [
    "pl.plot(num_cl,score)\n",
    "pl.xlabel('Number of Clusters')\n",
    "pl.ylabel('Score')\n",
    "pl.title('Elbow Curve')\n",
    "pl.show()"
   ]
  },
  {
   "cell_type": "code",
   "execution_count": 65,
   "metadata": {},
   "outputs": [],
   "source": [
    "kmeans = KMeans(n_clusters = 5, n_jobs = -1) "
   ]
  },
  {
   "cell_type": "code",
   "execution_count": 67,
   "metadata": {},
   "outputs": [
    {
     "name": "stderr",
     "output_type": "stream",
     "text": [
      "C:\\Users\\stefa\\anaconda3\\lib\\site-packages\\sklearn\\cluster\\_kmeans.py:938: FutureWarning: 'n_jobs' was deprecated in version 0.23 and will be removed in 0.25.\n",
      "  warnings.warn(\"'n_jobs' was deprecated in version 0.23 and will be\"\n"
     ]
    },
    {
     "data": {
      "text/plain": [
       "KMeans(n_clusters=5, n_jobs=-1)"
      ]
     },
     "execution_count": 67,
     "metadata": {},
     "output_type": "execute_result"
    }
   ],
   "source": [
    "kmeans.fit(df_sample)"
   ]
  },
  {
   "cell_type": "code",
   "execution_count": 68,
   "metadata": {},
   "outputs": [
    {
     "name": "stderr",
     "output_type": "stream",
     "text": [
      "C:\\Users\\stefa\\anaconda3\\lib\\site-packages\\sklearn\\cluster\\_kmeans.py:938: FutureWarning: 'n_jobs' was deprecated in version 0.23 and will be removed in 0.25.\n",
      "  warnings.warn(\"'n_jobs' was deprecated in version 0.23 and will be\"\n",
      "<ipython-input-68-15320f5a19bc>:1: SettingWithCopyWarning: \n",
      "A value is trying to be set on a copy of a slice from a DataFrame.\n",
      "Try using .loc[row_indexer,col_indexer] = value instead\n",
      "\n",
      "See the caveats in the documentation: https://pandas.pydata.org/pandas-docs/stable/user_guide/indexing.html#returning-a-view-versus-a-copy\n",
      "  df_sample['clusters'] = kmeans.fit_predict(df_sample)\n"
     ]
    }
   ],
   "source": [
    "df_sample['clusters'] = kmeans.fit_predict(df_sample)"
   ]
  },
  {
   "cell_type": "code",
   "execution_count": 69,
   "metadata": {},
   "outputs": [
    {
     "data": {
      "text/html": [
       "<div>\n",
       "<style scoped>\n",
       "    .dataframe tbody tr th:only-of-type {\n",
       "        vertical-align: middle;\n",
       "    }\n",
       "\n",
       "    .dataframe tbody tr th {\n",
       "        vertical-align: top;\n",
       "    }\n",
       "\n",
       "    .dataframe thead th {\n",
       "        text-align: right;\n",
       "    }\n",
       "</style>\n",
       "<table border=\"1\" class=\"dataframe\">\n",
       "  <thead>\n",
       "    <tr style=\"text-align: right;\">\n",
       "      <th></th>\n",
       "      <th>Unnamed: 0</th>\n",
       "      <th>Branch Number</th>\n",
       "      <th>Latitude</th>\n",
       "      <th>Longitude</th>\n",
       "      <th>2010 Deposits</th>\n",
       "      <th>2011 Deposits</th>\n",
       "      <th>2012 Deposits</th>\n",
       "      <th>2013 Deposits</th>\n",
       "      <th>2014 Deposits</th>\n",
       "      <th>2015 Deposits</th>\n",
       "      <th>2016 Deposits</th>\n",
       "      <th>2016 Median Annual Income</th>\n",
       "      <th>clusters</th>\n",
       "    </tr>\n",
       "  </thead>\n",
       "  <tbody>\n",
       "    <tr>\n",
       "      <th>0</th>\n",
       "      <td>0</td>\n",
       "      <td>501</td>\n",
       "      <td>40.59911</td>\n",
       "      <td>-73.95374</td>\n",
       "      <td>257757.0</td>\n",
       "      <td>256109.0</td>\n",
       "      <td>269664.0</td>\n",
       "      <td>393884.0</td>\n",
       "      <td>410870.0</td>\n",
       "      <td>432799.0</td>\n",
       "      <td>480204</td>\n",
       "      <td>61437</td>\n",
       "      <td>1</td>\n",
       "    </tr>\n",
       "    <tr>\n",
       "      <th>1</th>\n",
       "      <td>1</td>\n",
       "      <td>512</td>\n",
       "      <td>40.79445</td>\n",
       "      <td>-73.97206</td>\n",
       "      <td>327054.0</td>\n",
       "      <td>336573.0</td>\n",
       "      <td>354604.0</td>\n",
       "      <td>385553.0</td>\n",
       "      <td>422699.0</td>\n",
       "      <td>441168.0</td>\n",
       "      <td>474228</td>\n",
       "      <td>61437</td>\n",
       "      <td>1</td>\n",
       "    </tr>\n",
       "    <tr>\n",
       "      <th>2</th>\n",
       "      <td>2</td>\n",
       "      <td>3859</td>\n",
       "      <td>41.11541</td>\n",
       "      <td>-74.15134</td>\n",
       "      <td>38610.0</td>\n",
       "      <td>41017.0</td>\n",
       "      <td>44148.0</td>\n",
       "      <td>50997.0</td>\n",
       "      <td>58002.0</td>\n",
       "      <td>61939.0</td>\n",
       "      <td>65483</td>\n",
       "      <td>61437</td>\n",
       "      <td>0</td>\n",
       "    </tr>\n",
       "    <tr>\n",
       "      <th>3</th>\n",
       "      <td>3</td>\n",
       "      <td>509</td>\n",
       "      <td>40.71853</td>\n",
       "      <td>-73.99513</td>\n",
       "      <td>110712.0</td>\n",
       "      <td>127369.0</td>\n",
       "      <td>161513.0</td>\n",
       "      <td>197445.0</td>\n",
       "      <td>219289.0</td>\n",
       "      <td>245988.0</td>\n",
       "      <td>281266</td>\n",
       "      <td>61437</td>\n",
       "      <td>3</td>\n",
       "    </tr>\n",
       "    <tr>\n",
       "      <th>4</th>\n",
       "      <td>4</td>\n",
       "      <td>498</td>\n",
       "      <td>40.66985</td>\n",
       "      <td>-73.98073</td>\n",
       "      <td>143163.0</td>\n",
       "      <td>161085.0</td>\n",
       "      <td>189245.0</td>\n",
       "      <td>205912.0</td>\n",
       "      <td>235212.0</td>\n",
       "      <td>248736.0</td>\n",
       "      <td>281082</td>\n",
       "      <td>61437</td>\n",
       "      <td>3</td>\n",
       "    </tr>\n",
       "  </tbody>\n",
       "</table>\n",
       "</div>"
      ],
      "text/plain": [
       "   Unnamed: 0  Branch Number  Latitude  Longitude  2010 Deposits  \\\n",
       "0           0            501  40.59911  -73.95374       257757.0   \n",
       "1           1            512  40.79445  -73.97206       327054.0   \n",
       "2           2           3859  41.11541  -74.15134        38610.0   \n",
       "3           3            509  40.71853  -73.99513       110712.0   \n",
       "4           4            498  40.66985  -73.98073       143163.0   \n",
       "\n",
       "   2011 Deposits  2012 Deposits  2013 Deposits  2014 Deposits  2015 Deposits  \\\n",
       "0       256109.0       269664.0       393884.0       410870.0       432799.0   \n",
       "1       336573.0       354604.0       385553.0       422699.0       441168.0   \n",
       "2        41017.0        44148.0        50997.0        58002.0        61939.0   \n",
       "3       127369.0       161513.0       197445.0       219289.0       245988.0   \n",
       "4       161085.0       189245.0       205912.0       235212.0       248736.0   \n",
       "\n",
       "   2016 Deposits  2016 Median Annual Income  clusters  \n",
       "0         480204                      61437         1  \n",
       "1         474228                      61437         1  \n",
       "2          65483                      61437         0  \n",
       "3         281266                      61437         3  \n",
       "4         281082                      61437         3  "
      ]
     },
     "execution_count": 69,
     "metadata": {},
     "output_type": "execute_result"
    }
   ],
   "source": [
    "df_sample.head()"
   ]
  },
  {
   "cell_type": "code",
   "execution_count": 70,
   "metadata": {},
   "outputs": [
    {
     "data": {
      "text/plain": [
       "0    2713\n",
       "3     911\n",
       "1     138\n",
       "2      10\n",
       "4       1\n",
       "Name: clusters, dtype: int64"
      ]
     },
     "execution_count": 70,
     "metadata": {},
     "output_type": "execute_result"
    }
   ],
   "source": [
    "df_sample['clusters'].value_counts()"
   ]
  },
  {
   "cell_type": "code",
   "execution_count": 74,
   "metadata": {},
   "outputs": [
    {
     "data": {
      "image/png": "[encoded data removed]",
      "text/plain": [
       "<Figure size 864x576 with 1 Axes>"
      ]
     },
     "metadata": {
      "needs_background": "light"
     },
     "output_type": "display_data"
    }
   ],
   "source": [
    "plt.figure(figsize=(12,8))\n",
    "ax = sns.scatterplot(x=df_sample['2010 Deposits'], y=df_sample['2016 Median Annual Income'], hue=kmeans.labels_, s=100) \n",
    "\n",
    "ax.grid(False) \n",
    "plt.xlabel('2016 Deposits') \n",
    "plt.ylabel('2016 Median Annual Income')\n",
    "plt.show()"
   ]
  },
  {
   "cell_type": "markdown",
   "metadata": {},
   "source": [
    "This chart gives us a much better view into the clusters formed without the outliers"
   ]
  },
  {
   "cell_type": "markdown",
   "metadata": {},
   "source": [
    "### Descriptive Statistics for Clusters"
   ]
  },
  {
   "cell_type": "code",
   "execution_count": 73,
   "metadata": {},
   "outputs": [],
   "source": [
    "df.loc[df['clusters'] == 1, 'cluster'] = 'orange'\n",
    "df.loc[df['clusters'] == 0, 'cluster'] = 'blue'"
   ]
  },
  {
   "cell_type": "code",
   "execution_count": 75,
   "metadata": {},
   "outputs": [
    {
     "data": {
      "text/html": [
       "<div>\n",
       "<style scoped>\n",
       "    .dataframe tbody tr th:only-of-type {\n",
       "        vertical-align: middle;\n",
       "    }\n",
       "\n",
       "    .dataframe tbody tr th {\n",
       "        vertical-align: top;\n",
       "    }\n",
       "\n",
       "    .dataframe thead tr th {\n",
       "        text-align: left;\n",
       "    }\n",
       "\n",
       "    .dataframe thead tr:last-of-type th {\n",
       "        text-align: right;\n",
       "    }\n",
       "</style>\n",
       "<table border=\"1\" class=\"dataframe\">\n",
       "  <thead>\n",
       "    <tr>\n",
       "      <th></th>\n",
       "      <th colspan=\"2\" halign=\"left\">2010 Deposits</th>\n",
       "      <th colspan=\"2\" halign=\"left\">2016 Deposits</th>\n",
       "      <th colspan=\"2\" halign=\"left\">2016 Median Annual Income</th>\n",
       "    </tr>\n",
       "    <tr>\n",
       "      <th></th>\n",
       "      <th>mean</th>\n",
       "      <th>median</th>\n",
       "      <th>mean</th>\n",
       "      <th>median</th>\n",
       "      <th>mean</th>\n",
       "      <th>median</th>\n",
       "    </tr>\n",
       "    <tr>\n",
       "      <th>cluster</th>\n",
       "      <th></th>\n",
       "      <th></th>\n",
       "      <th></th>\n",
       "      <th></th>\n",
       "      <th></th>\n",
       "      <th></th>\n",
       "    </tr>\n",
       "  </thead>\n",
       "  <tbody>\n",
       "    <tr>\n",
       "      <th>blue</th>\n",
       "      <td>8.018398e+04</td>\n",
       "      <td>49506.5</td>\n",
       "      <td>1.311629e+05</td>\n",
       "      <td>81239</td>\n",
       "      <td>59780.076984</td>\n",
       "      <td>59817</td>\n",
       "    </tr>\n",
       "    <tr>\n",
       "      <th>orange</th>\n",
       "      <td>3.118552e+07</td>\n",
       "      <td>26356388.0</td>\n",
       "      <td>5.446813e+07</td>\n",
       "      <td>57820585</td>\n",
       "      <td>60323.000000</td>\n",
       "      <td>61386</td>\n",
       "    </tr>\n",
       "  </tbody>\n",
       "</table>\n",
       "</div>"
      ],
      "text/plain": [
       "        2010 Deposits             2016 Deposits            \\\n",
       "                 mean      median          mean    median   \n",
       "cluster                                                     \n",
       "blue     8.018398e+04     49506.5  1.311629e+05     81239   \n",
       "orange   3.118552e+07  26356388.0  5.446813e+07  57820585   \n",
       "\n",
       "        2016 Median Annual Income         \n",
       "                             mean median  \n",
       "cluster                                   \n",
       "blue                 59780.076984  59817  \n",
       "orange               60323.000000  61386  "
      ]
     },
     "execution_count": 75,
     "metadata": {},
     "output_type": "execute_result"
    }
   ],
   "source": [
    "df.groupby('cluster').agg({'2010 Deposits':['mean', 'median'], \n",
    "                         '2016 Deposits':['mean', 'median'], \n",
    "                         '2016 Median Annual Income':['mean', 'median']})"
   ]
  },
  {
   "cell_type": "markdown",
   "metadata": {},
   "source": [
    "And using the clusters without the outliers we get the following..."
   ]
  },
  {
   "cell_type": "code",
   "execution_count": 76,
   "metadata": {},
   "outputs": [
    {
     "name": "stderr",
     "output_type": "stream",
     "text": [
      "C:\\Users\\stefa\\anaconda3\\lib\\site-packages\\pandas\\core\\indexing.py:1596: SettingWithCopyWarning: \n",
      "A value is trying to be set on a copy of a slice from a DataFrame.\n",
      "Try using .loc[row_indexer,col_indexer] = value instead\n",
      "\n",
      "See the caveats in the documentation: https://pandas.pydata.org/pandas-docs/stable/user_guide/indexing.html#returning-a-view-versus-a-copy\n",
      "  self.obj[key] = _infer_fill_value(value)\n",
      "C:\\Users\\stefa\\anaconda3\\lib\\site-packages\\pandas\\core\\indexing.py:1765: SettingWithCopyWarning: \n",
      "A value is trying to be set on a copy of a slice from a DataFrame.\n",
      "Try using .loc[row_indexer,col_indexer] = value instead\n",
      "\n",
      "See the caveats in the documentation: https://pandas.pydata.org/pandas-docs/stable/user_guide/indexing.html#returning-a-view-versus-a-copy\n",
      "  isetter(loc, value)\n",
      "C:\\Users\\stefa\\anaconda3\\lib\\site-packages\\pandas\\core\\indexing.py:1765: SettingWithCopyWarning: \n",
      "A value is trying to be set on a copy of a slice from a DataFrame.\n",
      "Try using .loc[row_indexer,col_indexer] = value instead\n",
      "\n",
      "See the caveats in the documentation: https://pandas.pydata.org/pandas-docs/stable/user_guide/indexing.html#returning-a-view-versus-a-copy\n",
      "  isetter(loc, value)\n",
      "C:\\Users\\stefa\\anaconda3\\lib\\site-packages\\pandas\\core\\indexing.py:1765: SettingWithCopyWarning: \n",
      "A value is trying to be set on a copy of a slice from a DataFrame.\n",
      "Try using .loc[row_indexer,col_indexer] = value instead\n",
      "\n",
      "See the caveats in the documentation: https://pandas.pydata.org/pandas-docs/stable/user_guide/indexing.html#returning-a-view-versus-a-copy\n",
      "  isetter(loc, value)\n",
      "C:\\Users\\stefa\\anaconda3\\lib\\site-packages\\pandas\\core\\indexing.py:1765: SettingWithCopyWarning: \n",
      "A value is trying to be set on a copy of a slice from a DataFrame.\n",
      "Try using .loc[row_indexer,col_indexer] = value instead\n",
      "\n",
      "See the caveats in the documentation: https://pandas.pydata.org/pandas-docs/stable/user_guide/indexing.html#returning-a-view-versus-a-copy\n",
      "  isetter(loc, value)\n",
      "C:\\Users\\stefa\\anaconda3\\lib\\site-packages\\pandas\\core\\indexing.py:1765: SettingWithCopyWarning: \n",
      "A value is trying to be set on a copy of a slice from a DataFrame.\n",
      "Try using .loc[row_indexer,col_indexer] = value instead\n",
      "\n",
      "See the caveats in the documentation: https://pandas.pydata.org/pandas-docs/stable/user_guide/indexing.html#returning-a-view-versus-a-copy\n",
      "  isetter(loc, value)\n"
     ]
    }
   ],
   "source": [
    "df_sample.loc[df_sample['clusters'] == 0, 'cluster'] = 'tan'\n",
    "df_sample.loc[df_sample['clusters'] == 1, 'cluster'] = 'pink'\n",
    "df_sample.loc[df_sample['clusters'] == 2, 'cluster'] = 'purple'\n",
    "df_sample.loc[df_sample['clusters'] == 3, 'cluster'] = 'dark purple'\n",
    "df_sample.loc[df_sample['clusters'] == 4, 'cluster'] = 'violet'"
   ]
  },
  {
   "cell_type": "code",
   "execution_count": 77,
   "metadata": {},
   "outputs": [
    {
     "data": {
      "text/html": [
       "<div>\n",
       "<style scoped>\n",
       "    .dataframe tbody tr th:only-of-type {\n",
       "        vertical-align: middle;\n",
       "    }\n",
       "\n",
       "    .dataframe tbody tr th {\n",
       "        vertical-align: top;\n",
       "    }\n",
       "\n",
       "    .dataframe thead tr th {\n",
       "        text-align: left;\n",
       "    }\n",
       "\n",
       "    .dataframe thead tr:last-of-type th {\n",
       "        text-align: right;\n",
       "    }\n",
       "</style>\n",
       "<table border=\"1\" class=\"dataframe\">\n",
       "  <thead>\n",
       "    <tr>\n",
       "      <th></th>\n",
       "      <th colspan=\"2\" halign=\"left\">2010 Deposits</th>\n",
       "      <th colspan=\"2\" halign=\"left\">2016 Deposits</th>\n",
       "      <th colspan=\"2\" halign=\"left\">2016 Median Annual Income</th>\n",
       "    </tr>\n",
       "    <tr>\n",
       "      <th></th>\n",
       "      <th>mean</th>\n",
       "      <th>median</th>\n",
       "      <th>mean</th>\n",
       "      <th>median</th>\n",
       "      <th>mean</th>\n",
       "      <th>median</th>\n",
       "    </tr>\n",
       "    <tr>\n",
       "      <th>cluster</th>\n",
       "      <th></th>\n",
       "      <th></th>\n",
       "      <th></th>\n",
       "      <th></th>\n",
       "      <th></th>\n",
       "      <th></th>\n",
       "    </tr>\n",
       "  </thead>\n",
       "  <tbody>\n",
       "    <tr>\n",
       "      <th>dark purple</th>\n",
       "      <td>1.240642e+05</td>\n",
       "      <td>115827.0</td>\n",
       "      <td>1.974527e+05</td>\n",
       "      <td>185204</td>\n",
       "      <td>61474.996707</td>\n",
       "      <td>61437</td>\n",
       "    </tr>\n",
       "    <tr>\n",
       "      <th>pink</th>\n",
       "      <td>3.468641e+05</td>\n",
       "      <td>286639.0</td>\n",
       "      <td>4.750993e+05</td>\n",
       "      <td>440501</td>\n",
       "      <td>60811.760870</td>\n",
       "      <td>61386</td>\n",
       "    </tr>\n",
       "    <tr>\n",
       "      <th>purple</th>\n",
       "      <td>9.207377e+05</td>\n",
       "      <td>952792.0</td>\n",
       "      <td>1.702703e+06</td>\n",
       "      <td>1539613</td>\n",
       "      <td>58655.200000</td>\n",
       "      <td>61437</td>\n",
       "    </tr>\n",
       "    <tr>\n",
       "      <th>tan</th>\n",
       "      <td>3.938691e+04</td>\n",
       "      <td>36649.0</td>\n",
       "      <td>6.469599e+04</td>\n",
       "      <td>61344</td>\n",
       "      <td>59163.071139</td>\n",
       "      <td>58146</td>\n",
       "    </tr>\n",
       "    <tr>\n",
       "      <th>violet</th>\n",
       "      <td>3.252426e+06</td>\n",
       "      <td>3252426.0</td>\n",
       "      <td>3.230688e+06</td>\n",
       "      <td>3230688</td>\n",
       "      <td>70566.000000</td>\n",
       "      <td>70566</td>\n",
       "    </tr>\n",
       "  </tbody>\n",
       "</table>\n",
       "</div>"
      ],
      "text/plain": [
       "            2010 Deposits            2016 Deposits           \\\n",
       "                     mean     median          mean   median   \n",
       "cluster                                                       \n",
       "dark purple  1.240642e+05   115827.0  1.974527e+05   185204   \n",
       "pink         3.468641e+05   286639.0  4.750993e+05   440501   \n",
       "purple       9.207377e+05   952792.0  1.702703e+06  1539613   \n",
       "tan          3.938691e+04    36649.0  6.469599e+04    61344   \n",
       "violet       3.252426e+06  3252426.0  3.230688e+06  3230688   \n",
       "\n",
       "            2016 Median Annual Income         \n",
       "                                 mean median  \n",
       "cluster                                       \n",
       "dark purple              61474.996707  61437  \n",
       "pink                     60811.760870  61386  \n",
       "purple                   58655.200000  61437  \n",
       "tan                      59163.071139  58146  \n",
       "violet                   70566.000000  70566  "
      ]
     },
     "execution_count": 77,
     "metadata": {},
     "output_type": "execute_result"
    }
   ],
   "source": [
    "df_sample.groupby('cluster').agg({'2010 Deposits':['mean', 'median'], \n",
    "                         '2016 Deposits':['mean', 'median'], \n",
    "                         '2016 Median Annual Income':['mean', 'median']})"
   ]
  },
  {
   "cell_type": "code",
   "execution_count": null,
   "metadata": {},
   "outputs": [],
   "source": []
  }
 ],
 "metadata": {
  "kernelspec": {
   "display_name": "Python 3",
   "language": "python",
   "name": "python3"
  },
  "language_info": {
   "codemirror_mode": {
    "name": "ipython",
    "version": 3
   },
   "file_extension": ".py",
   "mimetype": "text/x-python",
   "name": "python",
   "nbconvert_exporter": "python",
   "pygments_lexer": "ipython3",
   "version": "3.8.5"
  }
 },
 "nbformat": 4,
 "nbformat_minor": 4
}
