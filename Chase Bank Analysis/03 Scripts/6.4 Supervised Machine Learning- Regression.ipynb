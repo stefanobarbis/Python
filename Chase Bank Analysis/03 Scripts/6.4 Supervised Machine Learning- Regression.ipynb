{
 "cells": [
  {
   "cell_type": "code",
   "execution_count": 2,
   "metadata": {},
   "outputs": [],
   "source": [
    "#Importing libraries\n",
    "\n",
    "import pandas as pd\n",
    "import numpy as np\n",
    "import seaborn as sns\n",
    "import matplotlib\n",
    "import matplotlib.pyplot as plt\n",
    "import os\n",
    "import sklearn\n",
    "from sklearn.model_selection import train_test_split \n",
    "from sklearn.linear_model import LinearRegression\n",
    "from sklearn.metrics import mean_squared_error, r2_score"
   ]
  },
  {
   "cell_type": "code",
   "execution_count": 3,
   "metadata": {},
   "outputs": [],
   "source": [
    "path = r'C:\\Users\\stefa\\OneDrive\\Career Foundry\\Chase Bank Analysis'"
   ]
  },
  {
   "cell_type": "code",
   "execution_count": 27,
   "metadata": {},
   "outputs": [],
   "source": [
    "df1 = pd.read_pickle(os.path.join(path, '02 Data', 'Original Data', 'database.pkl'))"
   ]
  },
  {
   "cell_type": "code",
   "execution_count": 46,
   "metadata": {},
   "outputs": [],
   "source": [
    "df2 = pd.read_csv(os.path.join(path, '02 Data', 'Original Data', 'Census.csv'))"
   ]
  },
  {
   "cell_type": "code",
   "execution_count": 47,
   "metadata": {},
   "outputs": [],
   "source": [
    "df = df1.merge(df2, on = 'State')"
   ]
  },
  {
   "cell_type": "code",
   "execution_count": 48,
   "metadata": {},
   "outputs": [
    {
     "data": {
      "text/html": [
       "<div>\n",
       "<style scoped>\n",
       "    .dataframe tbody tr th:only-of-type {\n",
       "        vertical-align: middle;\n",
       "    }\n",
       "\n",
       "    .dataframe tbody tr th {\n",
       "        vertical-align: top;\n",
       "    }\n",
       "\n",
       "    .dataframe thead th {\n",
       "        text-align: right;\n",
       "    }\n",
       "</style>\n",
       "<table border=\"1\" class=\"dataframe\">\n",
       "  <thead>\n",
       "    <tr style=\"text-align: right;\">\n",
       "      <th></th>\n",
       "      <th>Institution Name</th>\n",
       "      <th>Main Office</th>\n",
       "      <th>Branch Name</th>\n",
       "      <th>Branch Number</th>\n",
       "      <th>Established Date</th>\n",
       "      <th>Acquired Date</th>\n",
       "      <th>Street Address</th>\n",
       "      <th>City</th>\n",
       "      <th>County</th>\n",
       "      <th>State</th>\n",
       "      <th>...</th>\n",
       "      <th>Latitude</th>\n",
       "      <th>Longitude</th>\n",
       "      <th>2010 Deposits</th>\n",
       "      <th>2011 Deposits</th>\n",
       "      <th>2012 Deposits</th>\n",
       "      <th>2013 Deposits</th>\n",
       "      <th>2014 Deposits</th>\n",
       "      <th>2015 Deposits</th>\n",
       "      <th>2016 Deposits</th>\n",
       "      <th>2016 Median Annual\\nincome</th>\n",
       "    </tr>\n",
       "  </thead>\n",
       "  <tbody>\n",
       "    <tr>\n",
       "      <th>0</th>\n",
       "      <td>JPMorgan Chase Bank</td>\n",
       "      <td>0</td>\n",
       "      <td>Avenue U and East 17th St Branch</td>\n",
       "      <td>501</td>\n",
       "      <td>1/1/1900</td>\n",
       "      <td>6/20/1992</td>\n",
       "      <td>1722 Avenue U</td>\n",
       "      <td>Brooklyn</td>\n",
       "      <td>Kings</td>\n",
       "      <td>NY</td>\n",
       "      <td>...</td>\n",
       "      <td>40.59911</td>\n",
       "      <td>-73.95374</td>\n",
       "      <td>257757.0</td>\n",
       "      <td>256109.0</td>\n",
       "      <td>269664.0</td>\n",
       "      <td>393884.0</td>\n",
       "      <td>410870.0</td>\n",
       "      <td>432799.0</td>\n",
       "      <td>480204</td>\n",
       "      <td>61437</td>\n",
       "    </tr>\n",
       "    <tr>\n",
       "      <th>1</th>\n",
       "      <td>JPMorgan Chase Bank</td>\n",
       "      <td>0</td>\n",
       "      <td>Broadway and 96th Street Branch</td>\n",
       "      <td>512</td>\n",
       "      <td>1/1/1900</td>\n",
       "      <td>6/20/1992</td>\n",
       "      <td>2551 Broadway, 96th Street</td>\n",
       "      <td>New York City</td>\n",
       "      <td>New York</td>\n",
       "      <td>NY</td>\n",
       "      <td>...</td>\n",
       "      <td>40.79445</td>\n",
       "      <td>-73.97206</td>\n",
       "      <td>327054.0</td>\n",
       "      <td>336573.0</td>\n",
       "      <td>354604.0</td>\n",
       "      <td>385553.0</td>\n",
       "      <td>422699.0</td>\n",
       "      <td>441168.0</td>\n",
       "      <td>474228</td>\n",
       "      <td>61437</td>\n",
       "    </tr>\n",
       "    <tr>\n",
       "      <th>2</th>\n",
       "      <td>JPMorgan Chase Bank</td>\n",
       "      <td>0</td>\n",
       "      <td>Suffern Branch</td>\n",
       "      <td>3859</td>\n",
       "      <td>11/1/1901</td>\n",
       "      <td>10/1/2006</td>\n",
       "      <td>67 Lafayette Street</td>\n",
       "      <td>Suffern</td>\n",
       "      <td>Rockland</td>\n",
       "      <td>NY</td>\n",
       "      <td>...</td>\n",
       "      <td>41.11541</td>\n",
       "      <td>-74.15134</td>\n",
       "      <td>38610.0</td>\n",
       "      <td>41017.0</td>\n",
       "      <td>44148.0</td>\n",
       "      <td>50997.0</td>\n",
       "      <td>58002.0</td>\n",
       "      <td>61939.0</td>\n",
       "      <td>65483</td>\n",
       "      <td>61437</td>\n",
       "    </tr>\n",
       "    <tr>\n",
       "      <th>3</th>\n",
       "      <td>JPMorgan Chase Bank</td>\n",
       "      <td>0</td>\n",
       "      <td>Grand Street Branch</td>\n",
       "      <td>509</td>\n",
       "      <td>1/1/1902</td>\n",
       "      <td>6/20/1992</td>\n",
       "      <td>231 Grand Street</td>\n",
       "      <td>New York City</td>\n",
       "      <td>New York</td>\n",
       "      <td>NY</td>\n",
       "      <td>...</td>\n",
       "      <td>40.71853</td>\n",
       "      <td>-73.99513</td>\n",
       "      <td>110712.0</td>\n",
       "      <td>127369.0</td>\n",
       "      <td>161513.0</td>\n",
       "      <td>197445.0</td>\n",
       "      <td>219289.0</td>\n",
       "      <td>245988.0</td>\n",
       "      <td>281266</td>\n",
       "      <td>61437</td>\n",
       "    </tr>\n",
       "    <tr>\n",
       "      <th>4</th>\n",
       "      <td>JPMorgan Chase Bank</td>\n",
       "      <td>0</td>\n",
       "      <td>Ninth Street Branch</td>\n",
       "      <td>498</td>\n",
       "      <td>12/29/1902</td>\n",
       "      <td>6/20/1992</td>\n",
       "      <td>444 5th Avenue</td>\n",
       "      <td>Brooklyn</td>\n",
       "      <td>Kings</td>\n",
       "      <td>NY</td>\n",
       "      <td>...</td>\n",
       "      <td>40.66985</td>\n",
       "      <td>-73.98073</td>\n",
       "      <td>143163.0</td>\n",
       "      <td>161085.0</td>\n",
       "      <td>189245.0</td>\n",
       "      <td>205912.0</td>\n",
       "      <td>235212.0</td>\n",
       "      <td>248736.0</td>\n",
       "      <td>281082</td>\n",
       "      <td>61437</td>\n",
       "    </tr>\n",
       "    <tr>\n",
       "      <th>...</th>\n",
       "      <td>...</td>\n",
       "      <td>...</td>\n",
       "      <td>...</td>\n",
       "      <td>...</td>\n",
       "      <td>...</td>\n",
       "      <td>...</td>\n",
       "      <td>...</td>\n",
       "      <td>...</td>\n",
       "      <td>...</td>\n",
       "      <td>...</td>\n",
       "      <td>...</td>\n",
       "      <td>...</td>\n",
       "      <td>...</td>\n",
       "      <td>...</td>\n",
       "      <td>...</td>\n",
       "      <td>...</td>\n",
       "      <td>...</td>\n",
       "      <td>...</td>\n",
       "      <td>...</td>\n",
       "      <td>...</td>\n",
       "      <td>...</td>\n",
       "    </tr>\n",
       "    <tr>\n",
       "      <th>3791</th>\n",
       "      <td>JPMorgan Chase Bank</td>\n",
       "      <td>0</td>\n",
       "      <td>Atlanta Brach Branch</td>\n",
       "      <td>4408</td>\n",
       "      <td>4/1/2003</td>\n",
       "      <td>8/16/2008</td>\n",
       "      <td>3475 Piedmont Road, Suite 1800</td>\n",
       "      <td>Atlanta</td>\n",
       "      <td>Fulton</td>\n",
       "      <td>GA</td>\n",
       "      <td>...</td>\n",
       "      <td>33.84964</td>\n",
       "      <td>-84.37680</td>\n",
       "      <td>0.0</td>\n",
       "      <td>0.0</td>\n",
       "      <td>0.0</td>\n",
       "      <td>0.0</td>\n",
       "      <td>0.0</td>\n",
       "      <td>0.0</td>\n",
       "      <td>0</td>\n",
       "      <td>53527</td>\n",
       "    </tr>\n",
       "    <tr>\n",
       "      <th>3792</th>\n",
       "      <td>JPMorgan Chase Bank</td>\n",
       "      <td>0</td>\n",
       "      <td>Atlanta - Skye Mill Road Branch</td>\n",
       "      <td>5534</td>\n",
       "      <td>4/1/2003</td>\n",
       "      <td>9/25/2008</td>\n",
       "      <td>3300 Clairmont Road Ne Ste C</td>\n",
       "      <td>Atlanta</td>\n",
       "      <td>DeKalb</td>\n",
       "      <td>GA</td>\n",
       "      <td>...</td>\n",
       "      <td>33.85553</td>\n",
       "      <td>-84.31256</td>\n",
       "      <td>7353.0</td>\n",
       "      <td>9506.0</td>\n",
       "      <td>11784.0</td>\n",
       "      <td>14721.0</td>\n",
       "      <td>17628.0</td>\n",
       "      <td>19531.0</td>\n",
       "      <td>24122</td>\n",
       "      <td>53527</td>\n",
       "    </tr>\n",
       "    <tr>\n",
       "      <th>3793</th>\n",
       "      <td>JPMorgan Chase Bank</td>\n",
       "      <td>0</td>\n",
       "      <td>Lawrenceville - Sugarloaf Branch</td>\n",
       "      <td>5538</td>\n",
       "      <td>7/14/2003</td>\n",
       "      <td>9/25/2008</td>\n",
       "      <td>3340 Sugarloaf Pkwy Ste A</td>\n",
       "      <td>Lawrenceville</td>\n",
       "      <td>Gwinnett</td>\n",
       "      <td>GA</td>\n",
       "      <td>...</td>\n",
       "      <td>33.92131</td>\n",
       "      <td>-84.01652</td>\n",
       "      <td>11031.0</td>\n",
       "      <td>13266.0</td>\n",
       "      <td>15776.0</td>\n",
       "      <td>16844.0</td>\n",
       "      <td>18553.0</td>\n",
       "      <td>21373.0</td>\n",
       "      <td>26737</td>\n",
       "      <td>53527</td>\n",
       "    </tr>\n",
       "    <tr>\n",
       "      <th>3794</th>\n",
       "      <td>JPMorgan Chase Bank</td>\n",
       "      <td>0</td>\n",
       "      <td>Chamblee Branch</td>\n",
       "      <td>6592</td>\n",
       "      <td>4/2/2007</td>\n",
       "      <td>9/25/2008</td>\n",
       "      <td>1841 Chamblee Tucker Road, Suite 1-2</td>\n",
       "      <td>Chamblee</td>\n",
       "      <td>DeKalb</td>\n",
       "      <td>GA</td>\n",
       "      <td>...</td>\n",
       "      <td>33.88949</td>\n",
       "      <td>-84.31029</td>\n",
       "      <td>13559.0</td>\n",
       "      <td>13450.0</td>\n",
       "      <td>18043.0</td>\n",
       "      <td>19028.0</td>\n",
       "      <td>22416.0</td>\n",
       "      <td>25138.0</td>\n",
       "      <td>28075</td>\n",
       "      <td>53527</td>\n",
       "    </tr>\n",
       "    <tr>\n",
       "      <th>3795</th>\n",
       "      <td>JPMorgan Chase Bank</td>\n",
       "      <td>0</td>\n",
       "      <td>Boston Branch</td>\n",
       "      <td>4407</td>\n",
       "      <td>4/1/2003</td>\n",
       "      <td>8/16/2008</td>\n",
       "      <td>50 Rowes Wharf, Floor 4</td>\n",
       "      <td>Boston</td>\n",
       "      <td>Suffolk</td>\n",
       "      <td>MA</td>\n",
       "      <td>...</td>\n",
       "      <td>42.35597</td>\n",
       "      <td>-71.04981</td>\n",
       "      <td>0.0</td>\n",
       "      <td>0.0</td>\n",
       "      <td>0.0</td>\n",
       "      <td>0.0</td>\n",
       "      <td>0.0</td>\n",
       "      <td>0.0</td>\n",
       "      <td>0</td>\n",
       "      <td>72266</td>\n",
       "    </tr>\n",
       "  </tbody>\n",
       "</table>\n",
       "<p>3796 rows × 21 columns</p>\n",
       "</div>"
      ],
      "text/plain": [
       "         Institution Name  Main Office                       Branch Name  \\\n",
       "0     JPMorgan Chase Bank            0  Avenue U and East 17th St Branch   \n",
       "1     JPMorgan Chase Bank            0   Broadway and 96th Street Branch   \n",
       "2     JPMorgan Chase Bank            0                    Suffern Branch   \n",
       "3     JPMorgan Chase Bank            0               Grand Street Branch   \n",
       "4     JPMorgan Chase Bank            0               Ninth Street Branch   \n",
       "...                   ...          ...                               ...   \n",
       "3791  JPMorgan Chase Bank            0              Atlanta Brach Branch   \n",
       "3792  JPMorgan Chase Bank            0   Atlanta - Skye Mill Road Branch   \n",
       "3793  JPMorgan Chase Bank            0  Lawrenceville - Sugarloaf Branch   \n",
       "3794  JPMorgan Chase Bank            0                   Chamblee Branch   \n",
       "3795  JPMorgan Chase Bank            0                     Boston Branch   \n",
       "\n",
       "      Branch Number Established Date Acquired Date  \\\n",
       "0               501         1/1/1900     6/20/1992   \n",
       "1               512         1/1/1900     6/20/1992   \n",
       "2              3859        11/1/1901     10/1/2006   \n",
       "3               509         1/1/1902     6/20/1992   \n",
       "4               498       12/29/1902     6/20/1992   \n",
       "...             ...              ...           ...   \n",
       "3791           4408         4/1/2003     8/16/2008   \n",
       "3792           5534         4/1/2003     9/25/2008   \n",
       "3793           5538        7/14/2003     9/25/2008   \n",
       "3794           6592         4/2/2007     9/25/2008   \n",
       "3795           4407         4/1/2003     8/16/2008   \n",
       "\n",
       "                            Street Address           City    County State  \\\n",
       "0                            1722 Avenue U       Brooklyn     Kings    NY   \n",
       "1               2551 Broadway, 96th Street  New York City  New York    NY   \n",
       "2                      67 Lafayette Street        Suffern  Rockland    NY   \n",
       "3                         231 Grand Street  New York City  New York    NY   \n",
       "4                           444 5th Avenue       Brooklyn     Kings    NY   \n",
       "...                                    ...            ...       ...   ...   \n",
       "3791        3475 Piedmont Road, Suite 1800        Atlanta    Fulton    GA   \n",
       "3792          3300 Clairmont Road Ne Ste C        Atlanta    DeKalb    GA   \n",
       "3793             3340 Sugarloaf Pkwy Ste A  Lawrenceville  Gwinnett    GA   \n",
       "3794  1841 Chamblee Tucker Road, Suite 1-2       Chamblee    DeKalb    GA   \n",
       "3795               50 Rowes Wharf, Floor 4         Boston   Suffolk    MA   \n",
       "\n",
       "      ...  Latitude  Longitude  2010 Deposits  2011 Deposits  2012 Deposits  \\\n",
       "0     ...  40.59911  -73.95374       257757.0       256109.0       269664.0   \n",
       "1     ...  40.79445  -73.97206       327054.0       336573.0       354604.0   \n",
       "2     ...  41.11541  -74.15134        38610.0        41017.0        44148.0   \n",
       "3     ...  40.71853  -73.99513       110712.0       127369.0       161513.0   \n",
       "4     ...  40.66985  -73.98073       143163.0       161085.0       189245.0   \n",
       "...   ...       ...        ...            ...            ...            ...   \n",
       "3791  ...  33.84964  -84.37680            0.0            0.0            0.0   \n",
       "3792  ...  33.85553  -84.31256         7353.0         9506.0        11784.0   \n",
       "3793  ...  33.92131  -84.01652        11031.0        13266.0        15776.0   \n",
       "3794  ...  33.88949  -84.31029        13559.0        13450.0        18043.0   \n",
       "3795  ...  42.35597  -71.04981            0.0            0.0            0.0   \n",
       "\n",
       "      2013 Deposits  2014 Deposits  2015 Deposits  2016 Deposits  \\\n",
       "0          393884.0       410870.0       432799.0         480204   \n",
       "1          385553.0       422699.0       441168.0         474228   \n",
       "2           50997.0        58002.0        61939.0          65483   \n",
       "3          197445.0       219289.0       245988.0         281266   \n",
       "4          205912.0       235212.0       248736.0         281082   \n",
       "...             ...            ...            ...            ...   \n",
       "3791            0.0            0.0            0.0              0   \n",
       "3792        14721.0        17628.0        19531.0          24122   \n",
       "3793        16844.0        18553.0        21373.0          26737   \n",
       "3794        19028.0        22416.0        25138.0          28075   \n",
       "3795            0.0            0.0            0.0              0   \n",
       "\n",
       "      2016 Median Annual\\nincome  \n",
       "0                          61437  \n",
       "1                          61437  \n",
       "2                          61437  \n",
       "3                          61437  \n",
       "4                          61437  \n",
       "...                          ...  \n",
       "3791                       53527  \n",
       "3792                       53527  \n",
       "3793                       53527  \n",
       "3794                       53527  \n",
       "3795                       72266  \n",
       "\n",
       "[3796 rows x 21 columns]"
      ]
     },
     "execution_count": 48,
     "metadata": {},
     "output_type": "execute_result"
    }
   ],
   "source": [
    "df"
   ]
  },
  {
   "cell_type": "markdown",
   "metadata": {},
   "source": [
    "### Data Cleaning"
   ]
  },
  {
   "cell_type": "code",
   "execution_count": 49,
   "metadata": {},
   "outputs": [
    {
     "data": {
      "text/plain": [
       "(3796, 21)"
      ]
     },
     "execution_count": 49,
     "metadata": {},
     "output_type": "execute_result"
    }
   ],
   "source": [
    "df.shape"
   ]
  },
  {
   "cell_type": "code",
   "execution_count": 50,
   "metadata": {},
   "outputs": [
    {
     "data": {
      "text/plain": [
       "Institution Name               0\n",
       "Main Office                    0\n",
       "Branch Name                    0\n",
       "Branch Number                  0\n",
       "Established Date               0\n",
       "Acquired Date                  0\n",
       "Street Address                 0\n",
       "City                           0\n",
       "County                         0\n",
       "State                          0\n",
       "Zipcode                        0\n",
       "Latitude                      13\n",
       "Longitude                     13\n",
       "2010 Deposits                  0\n",
       "2011 Deposits                  0\n",
       "2012 Deposits                  0\n",
       "2013 Deposits                  0\n",
       "2014 Deposits                  0\n",
       "2015 Deposits                  0\n",
       "2016 Deposits                  0\n",
       "2016 Median Annual\\nincome     0\n",
       "dtype: int64"
      ]
     },
     "execution_count": 50,
     "metadata": {},
     "output_type": "execute_result"
    }
   ],
   "source": [
    "# Check for missing values\n",
    "\n",
    "df.isnull().sum()\n",
    "\n",
    "# No missing values to handle"
   ]
  },
  {
   "cell_type": "code",
   "execution_count": 51,
   "metadata": {},
   "outputs": [],
   "source": [
    "df_clean = df[df['Latitude'].isnull() == False]"
   ]
  },
  {
   "cell_type": "code",
   "execution_count": 52,
   "metadata": {},
   "outputs": [],
   "source": [
    "df_clean = df[df['Longitude'].isnull() == False]"
   ]
  },
  {
   "cell_type": "code",
   "execution_count": 53,
   "metadata": {},
   "outputs": [
    {
     "data": {
      "text/plain": [
       "(3783, 21)"
      ]
     },
     "execution_count": 53,
     "metadata": {},
     "output_type": "execute_result"
    }
   ],
   "source": [
    "df_clean.shape\n",
    "\n",
    "#Cleaning rows with missing values."
   ]
  },
  {
   "cell_type": "code",
   "execution_count": 54,
   "metadata": {},
   "outputs": [
    {
     "data": {
      "text/plain": [
       "Institution Name              0\n",
       "Main Office                   0\n",
       "Branch Name                   0\n",
       "Branch Number                 0\n",
       "Established Date              0\n",
       "Acquired Date                 0\n",
       "Street Address                0\n",
       "City                          0\n",
       "County                        0\n",
       "State                         0\n",
       "Zipcode                       0\n",
       "Latitude                      0\n",
       "Longitude                     0\n",
       "2010 Deposits                 0\n",
       "2011 Deposits                 0\n",
       "2012 Deposits                 0\n",
       "2013 Deposits                 0\n",
       "2014 Deposits                 0\n",
       "2015 Deposits                 0\n",
       "2016 Deposits                 0\n",
       "2016 Median Annual\\nincome    0\n",
       "dtype: int64"
      ]
     },
     "execution_count": 54,
     "metadata": {},
     "output_type": "execute_result"
    }
   ],
   "source": [
    "# Check for missing values\n",
    "\n",
    "df_clean.isnull().sum()\n",
    "\n",
    "# No missing values to handle"
   ]
  },
  {
   "cell_type": "code",
   "execution_count": 55,
   "metadata": {},
   "outputs": [],
   "source": [
    "dups = df_clean.duplicated()"
   ]
  },
  {
   "cell_type": "code",
   "execution_count": 56,
   "metadata": {},
   "outputs": [
    {
     "data": {
      "text/plain": [
       "(3783,)"
      ]
     },
     "execution_count": 56,
     "metadata": {},
     "output_type": "execute_result"
    }
   ],
   "source": [
    "dups.shape # No dups"
   ]
  },
  {
   "cell_type": "code",
   "execution_count": 74,
   "metadata": {},
   "outputs": [
    {
     "name": "stderr",
     "output_type": "stream",
     "text": [
      "C:\\Users\\stefa\\anaconda3\\lib\\site-packages\\seaborn\\distributions.py:2551: FutureWarning: `distplot` is a deprecated function and will be removed in a future version. Please adapt your code to use either `displot` (a figure-level function with similar flexibility) or `histplot` (an axes-level function for histograms).\n",
      "  warnings.warn(msg, FutureWarning)\n"
     ]
    },
    {
     "data": {
      "text/plain": [
       "<AxesSubplot:xlabel='2016 Median Annual\\nincome', ylabel='Density'>"
      ]
     },
     "execution_count": 74,
     "metadata": {},
     "output_type": "execute_result"
    },
    {
     "data": {
      "image/png": "[encoded data removed]",
      "text/plain": [
       "<Figure size 432x288 with 1 Axes>"
      ]
     },
     "metadata": {
      "needs_background": "light"
     },
     "output_type": "display_data"
    }
   ],
   "source": [
    "sns.distplot(df['2016 Median Annual\\nincome'], bins=10) # Shows extreme values\n",
    "\n",
    "# Some of the outliers in the high values may need to be removed, but let's try without doing so first."
   ]
  },
  {
   "cell_type": "code",
   "execution_count": 58,
   "metadata": {
    "scrolled": true
   },
   "outputs": [
    {
     "data": {
      "text/html": [
       "<div>\n",
       "<style scoped>\n",
       "    .dataframe tbody tr th:only-of-type {\n",
       "        vertical-align: middle;\n",
       "    }\n",
       "\n",
       "    .dataframe tbody tr th {\n",
       "        vertical-align: top;\n",
       "    }\n",
       "\n",
       "    .dataframe thead th {\n",
       "        text-align: right;\n",
       "    }\n",
       "</style>\n",
       "<table border=\"1\" class=\"dataframe\">\n",
       "  <thead>\n",
       "    <tr style=\"text-align: right;\">\n",
       "      <th></th>\n",
       "      <th>Main Office</th>\n",
       "      <th>Branch Number</th>\n",
       "      <th>Zipcode</th>\n",
       "      <th>Latitude</th>\n",
       "      <th>Longitude</th>\n",
       "      <th>2010 Deposits</th>\n",
       "      <th>2011 Deposits</th>\n",
       "      <th>2012 Deposits</th>\n",
       "      <th>2013 Deposits</th>\n",
       "      <th>2014 Deposits</th>\n",
       "      <th>2015 Deposits</th>\n",
       "      <th>2016 Deposits</th>\n",
       "      <th>2016 Median Annual\\nincome</th>\n",
       "    </tr>\n",
       "  </thead>\n",
       "  <tbody>\n",
       "    <tr>\n",
       "      <th>count</th>\n",
       "      <td>3783.0</td>\n",
       "      <td>3783.000000</td>\n",
       "      <td>3783.000000</td>\n",
       "      <td>3783.000000</td>\n",
       "      <td>3783.000000</td>\n",
       "      <td>3.783000e+03</td>\n",
       "      <td>3.783000e+03</td>\n",
       "      <td>3.783000e+03</td>\n",
       "      <td>3.783000e+03</td>\n",
       "      <td>3.783000e+03</td>\n",
       "      <td>3.783000e+03</td>\n",
       "      <td>3.783000e+03</td>\n",
       "      <td>3783.000000</td>\n",
       "    </tr>\n",
       "    <tr>\n",
       "      <th>mean</th>\n",
       "      <td>0.0</td>\n",
       "      <td>3613.833466</td>\n",
       "      <td>59692.557494</td>\n",
       "      <td>37.669029</td>\n",
       "      <td>-95.474814</td>\n",
       "      <td>1.048512e+05</td>\n",
       "      <td>1.196051e+05</td>\n",
       "      <td>1.346443e+05</td>\n",
       "      <td>1.484495e+05</td>\n",
       "      <td>1.701096e+05</td>\n",
       "      <td>1.698780e+05</td>\n",
       "      <td>1.742533e+05</td>\n",
       "      <td>59780.507534</td>\n",
       "    </tr>\n",
       "    <tr>\n",
       "      <th>std</th>\n",
       "      <td>0.0</td>\n",
       "      <td>1705.500540</td>\n",
       "      <td>30232.971053</td>\n",
       "      <td>5.407150</td>\n",
       "      <td>17.479459</td>\n",
       "      <td>9.418574e+05</td>\n",
       "      <td>1.286909e+06</td>\n",
       "      <td>1.608388e+06</td>\n",
       "      <td>1.769051e+06</td>\n",
       "      <td>2.248047e+06</td>\n",
       "      <td>1.874508e+06</td>\n",
       "      <td>1.631826e+06</td>\n",
       "      <td>6860.673753</td>\n",
       "    </tr>\n",
       "    <tr>\n",
       "      <th>min</th>\n",
       "      <td>0.0</td>\n",
       "      <td>174.000000</td>\n",
       "      <td>2110.000000</td>\n",
       "      <td>0.000000</td>\n",
       "      <td>-124.421370</td>\n",
       "      <td>0.000000e+00</td>\n",
       "      <td>0.000000e+00</td>\n",
       "      <td>0.000000e+00</td>\n",
       "      <td>0.000000e+00</td>\n",
       "      <td>0.000000e+00</td>\n",
       "      <td>0.000000e+00</td>\n",
       "      <td>0.000000e+00</td>\n",
       "      <td>42196.000000</td>\n",
       "    </tr>\n",
       "    <tr>\n",
       "      <th>25%</th>\n",
       "      <td>0.0</td>\n",
       "      <td>2217.500000</td>\n",
       "      <td>40219.000000</td>\n",
       "      <td>33.460135</td>\n",
       "      <td>-116.457540</td>\n",
       "      <td>2.861450e+04</td>\n",
       "      <td>3.048000e+04</td>\n",
       "      <td>3.371750e+04</td>\n",
       "      <td>3.659500e+04</td>\n",
       "      <td>3.973500e+04</td>\n",
       "      <td>4.367100e+04</td>\n",
       "      <td>4.806850e+04</td>\n",
       "      <td>56564.000000</td>\n",
       "    </tr>\n",
       "    <tr>\n",
       "      <th>50%</th>\n",
       "      <td>0.0</td>\n",
       "      <td>3347.000000</td>\n",
       "      <td>60714.000000</td>\n",
       "      <td>39.705560</td>\n",
       "      <td>-89.028710</td>\n",
       "      <td>4.952600e+04</td>\n",
       "      <td>5.182200e+04</td>\n",
       "      <td>5.771200e+04</td>\n",
       "      <td>6.231200e+04</td>\n",
       "      <td>6.802900e+04</td>\n",
       "      <td>7.366800e+04</td>\n",
       "      <td>8.124800e+04</td>\n",
       "      <td>59817.000000</td>\n",
       "    </tr>\n",
       "    <tr>\n",
       "      <th>75%</th>\n",
       "      <td>0.0</td>\n",
       "      <td>5035.500000</td>\n",
       "      <td>90003.000000</td>\n",
       "      <td>41.342325</td>\n",
       "      <td>-81.637720</td>\n",
       "      <td>9.071850e+04</td>\n",
       "      <td>9.479550e+04</td>\n",
       "      <td>1.024945e+05</td>\n",
       "      <td>1.104215e+05</td>\n",
       "      <td>1.187415e+05</td>\n",
       "      <td>1.274145e+05</td>\n",
       "      <td>1.408410e+05</td>\n",
       "      <td>66637.000000</td>\n",
       "    </tr>\n",
       "    <tr>\n",
       "      <th>max</th>\n",
       "      <td>0.0</td>\n",
       "      <td>6880.000000</td>\n",
       "      <td>99362.000000</td>\n",
       "      <td>48.801330</td>\n",
       "      <td>0.000000</td>\n",
       "      <td>4.509908e+07</td>\n",
       "      <td>6.263098e+07</td>\n",
       "      <td>8.196038e+07</td>\n",
       "      <td>8.517781e+07</td>\n",
       "      <td>9.832216e+07</td>\n",
       "      <td>8.456904e+07</td>\n",
       "      <td>6.904479e+07</td>\n",
       "      <td>75923.000000</td>\n",
       "    </tr>\n",
       "  </tbody>\n",
       "</table>\n",
       "</div>"
      ],
      "text/plain": [
       "       Main Office  Branch Number       Zipcode     Latitude    Longitude  \\\n",
       "count       3783.0    3783.000000   3783.000000  3783.000000  3783.000000   \n",
       "mean           0.0    3613.833466  59692.557494    37.669029   -95.474814   \n",
       "std            0.0    1705.500540  30232.971053     5.407150    17.479459   \n",
       "min            0.0     174.000000   2110.000000     0.000000  -124.421370   \n",
       "25%            0.0    2217.500000  40219.000000    33.460135  -116.457540   \n",
       "50%            0.0    3347.000000  60714.000000    39.705560   -89.028710   \n",
       "75%            0.0    5035.500000  90003.000000    41.342325   -81.637720   \n",
       "max            0.0    6880.000000  99362.000000    48.801330     0.000000   \n",
       "\n",
       "       2010 Deposits  2011 Deposits  2012 Deposits  2013 Deposits  \\\n",
       "count   3.783000e+03   3.783000e+03   3.783000e+03   3.783000e+03   \n",
       "mean    1.048512e+05   1.196051e+05   1.346443e+05   1.484495e+05   \n",
       "std     9.418574e+05   1.286909e+06   1.608388e+06   1.769051e+06   \n",
       "min     0.000000e+00   0.000000e+00   0.000000e+00   0.000000e+00   \n",
       "25%     2.861450e+04   3.048000e+04   3.371750e+04   3.659500e+04   \n",
       "50%     4.952600e+04   5.182200e+04   5.771200e+04   6.231200e+04   \n",
       "75%     9.071850e+04   9.479550e+04   1.024945e+05   1.104215e+05   \n",
       "max     4.509908e+07   6.263098e+07   8.196038e+07   8.517781e+07   \n",
       "\n",
       "       2014 Deposits  2015 Deposits  2016 Deposits  2016 Median Annual\\nincome  \n",
       "count   3.783000e+03   3.783000e+03   3.783000e+03                 3783.000000  \n",
       "mean    1.701096e+05   1.698780e+05   1.742533e+05                59780.507534  \n",
       "std     2.248047e+06   1.874508e+06   1.631826e+06                 6860.673753  \n",
       "min     0.000000e+00   0.000000e+00   0.000000e+00                42196.000000  \n",
       "25%     3.973500e+04   4.367100e+04   4.806850e+04                56564.000000  \n",
       "50%     6.802900e+04   7.366800e+04   8.124800e+04                59817.000000  \n",
       "75%     1.187415e+05   1.274145e+05   1.408410e+05                66637.000000  \n",
       "max     9.832216e+07   8.456904e+07   6.904479e+07                75923.000000  "
      ]
     },
     "execution_count": 58,
     "metadata": {},
     "output_type": "execute_result"
    }
   ],
   "source": [
    "df_clean.describe()"
   ]
  },
  {
   "cell_type": "code",
   "execution_count": 82,
   "metadata": {},
   "outputs": [],
   "source": [
    "df_clean.rename(columns = {'2016 Median Annual\\nincome' : '2016 Median Annual Income'}, inplace = True)"
   ]
  },
  {
   "cell_type": "markdown",
   "metadata": {},
   "source": [
    "### Data prep for regression analysis "
   ]
  },
  {
   "cell_type": "code",
   "execution_count": 84,
   "metadata": {},
   "outputs": [
    {
     "data": {
      "image/png": "[encoded data removed]",
      "text/plain": [
       "<Figure size 432x288 with 1 Axes>"
      ]
     },
     "metadata": {
      "needs_background": "light"
     },
     "output_type": "display_data"
    }
   ],
   "source": [
    "# Creating a scatterplot to test variable relationships\n",
    "\n",
    "df_clean.plot(x = '2016 Deposits', y = '2016 Median Annual Income',style='o')\n",
    "plt.title('2016 Deposits vs Income')  \n",
    "plt.xlabel('2016 Deposits')  \n",
    "plt.ylabel('2016 Median Annual Income')  \n",
    "plt.show()"
   ]
  },
  {
   "cell_type": "markdown",
   "metadata": {},
   "source": [
    "### Hypothesis"
   ]
  },
  {
   "cell_type": "code",
   "execution_count": 17,
   "metadata": {},
   "outputs": [],
   "source": [
    "#Hypothesis: Banks will have a growth where there is a growing population density."
   ]
  },
  {
   "cell_type": "markdown",
   "metadata": {},
   "source": [
    "### Reshaping variables"
   ]
  },
  {
   "cell_type": "code",
   "execution_count": 86,
   "metadata": {},
   "outputs": [],
   "source": [
    "X = df_clean['2016 Deposits'].values.reshape(-1,1)\n",
    "y = df_clean['2016 Median Annual Income'].values.reshape(-1,1)"
   ]
  },
  {
   "cell_type": "code",
   "execution_count": 87,
   "metadata": {},
   "outputs": [
    {
     "data": {
      "text/plain": [
       "array([[480204],\n",
       "       [474228],\n",
       "       [ 65483],\n",
       "       ...,\n",
       "       [ 26737],\n",
       "       [ 28075],\n",
       "       [     0]], dtype=int64)"
      ]
     },
     "execution_count": 87,
     "metadata": {},
     "output_type": "execute_result"
    }
   ],
   "source": [
    "X"
   ]
  },
  {
   "cell_type": "code",
   "execution_count": 88,
   "metadata": {},
   "outputs": [
    {
     "data": {
      "text/plain": [
       "array([[61437],\n",
       "       [61437],\n",
       "       [61437],\n",
       "       ...,\n",
       "       [53527],\n",
       "       [53527],\n",
       "       [72266]], dtype=int64)"
      ]
     },
     "execution_count": 88,
     "metadata": {},
     "output_type": "execute_result"
    }
   ],
   "source": [
    "y"
   ]
  },
  {
   "cell_type": "markdown",
   "metadata": {},
   "source": [
    "### Splitting the data into training and test set"
   ]
  },
  {
   "cell_type": "code",
   "execution_count": 89,
   "metadata": {},
   "outputs": [],
   "source": [
    "X_train, X_test, y_train, y_test = train_test_split(X, y, test_size=0.3, random_state=0)"
   ]
  },
  {
   "cell_type": "markdown",
   "metadata": {},
   "source": [
    "### Regression Analysis"
   ]
  },
  {
   "cell_type": "code",
   "execution_count": 90,
   "metadata": {},
   "outputs": [],
   "source": [
    "regression = LinearRegression()"
   ]
  },
  {
   "cell_type": "code",
   "execution_count": 91,
   "metadata": {},
   "outputs": [
    {
     "data": {
      "text/plain": [
       "LinearRegression()"
      ]
     },
     "execution_count": 91,
     "metadata": {},
     "output_type": "execute_result"
    }
   ],
   "source": [
    "regression.fit(X_train, y_train)"
   ]
  },
  {
   "cell_type": "code",
   "execution_count": 92,
   "metadata": {},
   "outputs": [],
   "source": [
    "y_predicted = regression.predict(X_test)"
   ]
  },
  {
   "cell_type": "code",
   "execution_count": 94,
   "metadata": {},
   "outputs": [
    {
     "data": {
      "image/png": "[encoded data removed]",
      "text/plain": [
       "<Figure size 432x288 with 1 Axes>"
      ]
     },
     "metadata": {
      "needs_background": "light"
     },
     "output_type": "display_data"
    }
   ],
   "source": [
    "plot_test = plt\n",
    "plot_test.scatter(X_test, y_test, color='gray', s = 15)\n",
    "plot_test.plot(X_test, y_predicted, color='red', linewidth =3)\n",
    "plot_test.title('2016 Deposits vs Annual Income (Test set)')\n",
    "plot_test.xlabel('2016 Deposits')\n",
    "plot_test.ylabel('2016 Median Annual Income')\n",
    "plot_test.show()"
   ]
  },
  {
   "cell_type": "markdown",
   "metadata": {},
   "source": [
    "Unfortunately the regression line seems to show a negative trend almost at zero, so there is not much correlation between the 2."
   ]
  },
  {
   "cell_type": "markdown",
   "metadata": {},
   "source": [
    "### Model Performance Statistics"
   ]
  },
  {
   "cell_type": "code",
   "execution_count": 95,
   "metadata": {},
   "outputs": [],
   "source": [
    "rmse = mean_squared_error(y_test, y_predicted) # This is the mean squared error\n",
    "r2 = r2_score(y_test, y_predicted) # This is the R2 score. "
   ]
  },
  {
   "cell_type": "code",
   "execution_count": 96,
   "metadata": {},
   "outputs": [
    {
     "name": "stdout",
     "output_type": "stream",
     "text": [
      "Slope: [[4.29351865e-05]]\n",
      "Mean squared error:  47360252.79922823\n",
      "R2 score:  -0.0009615938930340739\n"
     ]
    }
   ],
   "source": [
    "print('Slope:' ,regression.coef_)\n",
    "print('Mean squared error: ', rmse)\n",
    "print('R2 score: ', r2)"
   ]
  },
  {
   "cell_type": "markdown",
   "metadata": {},
   "source": [
    "### Comparing predicted and actual y-values"
   ]
  },
  {
   "cell_type": "code",
   "execution_count": 97,
   "metadata": {},
   "outputs": [
    {
     "data": {
      "text/plain": [
       "array([[59843.07519917],\n",
       "       [59840.80865068],\n",
       "       [59846.80562285],\n",
       "       ...,\n",
       "       [59841.03255768],\n",
       "       [59845.69888255],\n",
       "       [59841.42343961]])"
      ]
     },
     "execution_count": 97,
     "metadata": {},
     "output_type": "execute_result"
    }
   ],
   "source": [
    "y_predicted"
   ]
  },
  {
   "cell_type": "code",
   "execution_count": 98,
   "metadata": {},
   "outputs": [
    {
     "data": {
      "text/html": [
       "<div>\n",
       "<style scoped>\n",
       "    .dataframe tbody tr th:only-of-type {\n",
       "        vertical-align: middle;\n",
       "    }\n",
       "\n",
       "    .dataframe tbody tr th {\n",
       "        vertical-align: top;\n",
       "    }\n",
       "\n",
       "    .dataframe thead th {\n",
       "        text-align: right;\n",
       "    }\n",
       "</style>\n",
       "<table border=\"1\" class=\"dataframe\">\n",
       "  <thead>\n",
       "    <tr style=\"text-align: right;\">\n",
       "      <th></th>\n",
       "      <th>Actual</th>\n",
       "      <th>Predicted</th>\n",
       "    </tr>\n",
       "  </thead>\n",
       "  <tbody>\n",
       "    <tr>\n",
       "      <th>0</th>\n",
       "      <td>53985</td>\n",
       "      <td>59843.075199</td>\n",
       "    </tr>\n",
       "    <tr>\n",
       "      <th>1</th>\n",
       "      <td>53985</td>\n",
       "      <td>59840.808651</td>\n",
       "    </tr>\n",
       "    <tr>\n",
       "      <th>2</th>\n",
       "      <td>66637</td>\n",
       "      <td>59846.805623</td>\n",
       "    </tr>\n",
       "    <tr>\n",
       "      <th>3</th>\n",
       "      <td>66637</td>\n",
       "      <td>59848.174482</td>\n",
       "    </tr>\n",
       "    <tr>\n",
       "      <th>4</th>\n",
       "      <td>50943</td>\n",
       "      <td>59839.719170</td>\n",
       "    </tr>\n",
       "    <tr>\n",
       "      <th>5</th>\n",
       "      <td>66637</td>\n",
       "      <td>59842.920633</td>\n",
       "    </tr>\n",
       "    <tr>\n",
       "      <th>6</th>\n",
       "      <td>61386</td>\n",
       "      <td>59841.895469</td>\n",
       "    </tr>\n",
       "    <tr>\n",
       "      <th>7</th>\n",
       "      <td>58146</td>\n",
       "      <td>59839.719170</td>\n",
       "    </tr>\n",
       "    <tr>\n",
       "      <th>8</th>\n",
       "      <td>57091</td>\n",
       "      <td>59844.906299</td>\n",
       "    </tr>\n",
       "    <tr>\n",
       "      <th>9</th>\n",
       "      <td>61437</td>\n",
       "      <td>59845.580596</td>\n",
       "    </tr>\n",
       "    <tr>\n",
       "      <th>10</th>\n",
       "      <td>53985</td>\n",
       "      <td>59842.568092</td>\n",
       "    </tr>\n",
       "    <tr>\n",
       "      <th>11</th>\n",
       "      <td>45369</td>\n",
       "      <td>59843.617814</td>\n",
       "    </tr>\n",
       "    <tr>\n",
       "      <th>12</th>\n",
       "      <td>61437</td>\n",
       "      <td>59844.632201</td>\n",
       "    </tr>\n",
       "    <tr>\n",
       "      <th>13</th>\n",
       "      <td>51176</td>\n",
       "      <td>59842.507467</td>\n",
       "    </tr>\n",
       "    <tr>\n",
       "      <th>14</th>\n",
       "      <td>66637</td>\n",
       "      <td>59844.967568</td>\n",
       "    </tr>\n",
       "    <tr>\n",
       "      <th>15</th>\n",
       "      <td>66637</td>\n",
       "      <td>59842.447530</td>\n",
       "    </tr>\n",
       "    <tr>\n",
       "      <th>16</th>\n",
       "      <td>57091</td>\n",
       "      <td>59840.866012</td>\n",
       "    </tr>\n",
       "    <tr>\n",
       "      <th>17</th>\n",
       "      <td>58146</td>\n",
       "      <td>59844.615928</td>\n",
       "    </tr>\n",
       "    <tr>\n",
       "      <th>18</th>\n",
       "      <td>66637</td>\n",
       "      <td>59841.013323</td>\n",
       "    </tr>\n",
       "    <tr>\n",
       "      <th>19</th>\n",
       "      <td>66637</td>\n",
       "      <td>59842.702007</td>\n",
       "    </tr>\n",
       "    <tr>\n",
       "      <th>20</th>\n",
       "      <td>53985</td>\n",
       "      <td>59841.462382</td>\n",
       "    </tr>\n",
       "    <tr>\n",
       "      <th>21</th>\n",
       "      <td>66637</td>\n",
       "      <td>59841.559115</td>\n",
       "    </tr>\n",
       "    <tr>\n",
       "      <th>22</th>\n",
       "      <td>61386</td>\n",
       "      <td>59848.701598</td>\n",
       "    </tr>\n",
       "    <tr>\n",
       "      <th>23</th>\n",
       "      <td>66637</td>\n",
       "      <td>59839.719170</td>\n",
       "    </tr>\n",
       "    <tr>\n",
       "      <th>24</th>\n",
       "      <td>53985</td>\n",
       "      <td>59839.719170</td>\n",
       "    </tr>\n",
       "    <tr>\n",
       "      <th>25</th>\n",
       "      <td>51176</td>\n",
       "      <td>59842.074809</td>\n",
       "    </tr>\n",
       "    <tr>\n",
       "      <th>26</th>\n",
       "      <td>59817</td>\n",
       "      <td>59842.851979</td>\n",
       "    </tr>\n",
       "    <tr>\n",
       "      <th>27</th>\n",
       "      <td>58146</td>\n",
       "      <td>59844.030207</td>\n",
       "    </tr>\n",
       "    <tr>\n",
       "      <th>28</th>\n",
       "      <td>68468</td>\n",
       "      <td>59843.214781</td>\n",
       "    </tr>\n",
       "    <tr>\n",
       "      <th>29</th>\n",
       "      <td>66637</td>\n",
       "      <td>59845.291385</td>\n",
       "    </tr>\n",
       "  </tbody>\n",
       "</table>\n",
       "</div>"
      ],
      "text/plain": [
       "    Actual     Predicted\n",
       "0    53985  59843.075199\n",
       "1    53985  59840.808651\n",
       "2    66637  59846.805623\n",
       "3    66637  59848.174482\n",
       "4    50943  59839.719170\n",
       "5    66637  59842.920633\n",
       "6    61386  59841.895469\n",
       "7    58146  59839.719170\n",
       "8    57091  59844.906299\n",
       "9    61437  59845.580596\n",
       "10   53985  59842.568092\n",
       "11   45369  59843.617814\n",
       "12   61437  59844.632201\n",
       "13   51176  59842.507467\n",
       "14   66637  59844.967568\n",
       "15   66637  59842.447530\n",
       "16   57091  59840.866012\n",
       "17   58146  59844.615928\n",
       "18   66637  59841.013323\n",
       "19   66637  59842.702007\n",
       "20   53985  59841.462382\n",
       "21   66637  59841.559115\n",
       "22   61386  59848.701598\n",
       "23   66637  59839.719170\n",
       "24   53985  59839.719170\n",
       "25   51176  59842.074809\n",
       "26   59817  59842.851979\n",
       "27   58146  59844.030207\n",
       "28   68468  59843.214781\n",
       "29   66637  59845.291385"
      ]
     },
     "execution_count": 98,
     "metadata": {},
     "output_type": "execute_result"
    }
   ],
   "source": [
    "data = pd.DataFrame({'Actual': y_test.flatten(), 'Predicted': y_predicted.flatten()})\n",
    "data.head(30)"
   ]
  },
  {
   "cell_type": "markdown",
   "metadata": {},
   "source": [
    "According to our R2 score we can see that there is indeed very little correlation. We must continue to investigate other correlations."
   ]
  },
  {
   "cell_type": "markdown",
   "metadata": {},
   "source": [
    "### Removing Outliers"
   ]
  },
  {
   "cell_type": "code",
   "execution_count": 104,
   "metadata": {},
   "outputs": [],
   "source": [
    "df_sample = df_clean[df_clean['2016 Deposits'] <=3500000] "
   ]
  },
  {
   "cell_type": "code",
   "execution_count": 105,
   "metadata": {},
   "outputs": [
    {
     "data": {
      "image/png": "[encoded data removed]",
      "text/plain": [
       "<Figure size 432x288 with 1 Axes>"
      ]
     },
     "metadata": {
      "needs_background": "light"
     },
     "output_type": "display_data"
    }
   ],
   "source": [
    "df_sample.plot(x = '2016 Deposits', y = '2016 Median Annual Income',style='o')\n",
    "plt.title('2016 Deposits vs Income')  \n",
    "plt.xlabel('2016 Deposits')  \n",
    "plt.ylabel('2016 Median Annual Income')  \n",
    "plt.show()"
   ]
  },
  {
   "cell_type": "markdown",
   "metadata": {},
   "source": [
    "Unfortunately, there is not much of a pattern to make a conclusive answer."
   ]
  },
  {
   "cell_type": "code",
   "execution_count": 107,
   "metadata": {},
   "outputs": [],
   "source": [
    "df_clean.to_csv(os.path.join(path, '02 Data','Prepared Data', 'Database.csv'))"
   ]
  },
  {
   "cell_type": "code",
   "execution_count": null,
   "metadata": {},
   "outputs": [],
   "source": []
  }
 ],
 "metadata": {
  "kernelspec": {
   "display_name": "Python 3",
   "language": "python",
   "name": "python3"
  },
  "language_info": {
   "codemirror_mode": {
    "name": "ipython",
    "version": 3
   },
   "file_extension": ".py",
   "mimetype": "text/x-python",
   "name": "python",
   "nbconvert_exporter": "python",
   "pygments_lexer": "ipython3",
   "version": "3.8.5"
  }
 },
 "nbformat": 4,
 "nbformat_minor": 4
}
